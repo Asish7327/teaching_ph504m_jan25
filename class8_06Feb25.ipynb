{
 "cells": [
  {
   "cell_type": "markdown",
   "id": "bdb93f28-1944-43cb-94e7-380075d3f52b",
   "metadata": {},
   "source": [
    "# Interpolation\n",
    "\n",
    "#### Class 8 (Computational Physics; Date: 06 Feb 2025)\n",
    "#### Notes by Vikram Khaire"
   ]
  },
  {
   "cell_type": "code",
   "execution_count": 1,
   "id": "3b66da6f-4678-45fd-b71b-02433084cfe7",
   "metadata": {},
   "outputs": [],
   "source": [
    "# import libraries\n",
    "import numpy as np\n",
    "import matplotlib.pyplot as plt"
   ]
  },
  {
   "cell_type": "markdown",
   "id": "e24aac8a-5895-45ee-b5e5-334d25e0eb27",
   "metadata": {},
   "source": [
    "* Let's create some data \\\n",
    "we will define a function y(x) and create an X and Y array using it \\\n",
    "note in reality you don't know the function -- you just get the X-array and Y-array "
   ]
  },
  {
   "cell_type": "code",
   "execution_count": 2,
   "id": "e3554adc-49ac-4ee0-b8ce-a23d149d7718",
   "metadata": {},
   "outputs": [],
   "source": [
    "def polynomial_function(x):\n",
    "    f = x**3 - x**2 + 10  # an arbritray polynomial\n",
    "    return f"
   ]
  },
  {
   "cell_type": "code",
   "execution_count": 3,
   "id": "04ee8120-8e73-49fd-9956-5a2e5bb8b736",
   "metadata": {},
   "outputs": [],
   "source": [
    "# create an X array and get the Y using the above function\n",
    "x = np.arange(-5, 5, 1)\n",
    "# Always print to see what you get if you do not remember the syntax\n",
    "y = polynomial_function(x)"
   ]
  },
  {
   "cell_type": "code",
   "execution_count": 4,
   "id": "d781e91d-1b83-4fab-a386-8fe813aef23a",
   "metadata": {},
   "outputs": [
    {
     "data": {
      "text/plain": [
       "Text(0, 0.5, 'y')"
      ]
     },
     "execution_count": 4,
     "metadata": {},
     "output_type": "execute_result"
    },
    {
     "data": {
      "image/png": "[encoded data removed]",
      "text/plain": [
       "<Figure size 640x480 with 1 Axes>"
      ]
     },
     "metadata": {},
     "output_type": "display_data"
    }
   ],
   "source": [
    "# Let's plot to see how it looks\n",
    "plt.scatter(x, y) # plt.scatter plots a scatter plot instead of a line\n",
    "plt.xlabel('x')\n",
    "plt.ylabel('y')"
   ]
  },
  {
   "cell_type": "markdown",
   "id": "01e6646f-933b-4f2e-b8cb-fa041b6ab928",
   "metadata": {},
   "source": [
    "#### the question?\n",
    "What is y for x =3.14? \\\n",
    "Given that you only data x array and y array"
   ]
  },
  {
   "cell_type": "markdown",
   "id": "28ac19e6-69c4-485b-9286-5b9efc598463",
   "metadata": {},
   "source": [
    "## 1. Nearest Neighbour Interpolation (NNI)\n",
    "y (x) $\\approx$ y (nearest x in the x-array)"
   ]
  },
  {
   "cell_type": "markdown",
   "id": "e265c377-b3eb-49c4-a0a0-5e6694a6eb2f",
   "metadata": {},
   "source": [
    "#### Let's write code to find the nearest neighbor to x \n",
    "The idea is following \\ \n",
    "Take the absolute difference between every element of x-array and x \\\n",
    "The element for which the difference is minimum would be the closest \\\n",
    "To find the argument (i.e index) of minimum number use numpy.argmin function\n"
   ]
  },
  {
   "cell_type": "code",
   "execution_count": 5,
   "id": "bb97634e-6322-4755-9915-0cf93ec5e5d2",
   "metadata": {},
   "outputs": [],
   "source": [
    "# Let's write a function for nearest point\n",
    "def nearest_point(x_array, x):\n",
    "    abs_difference_array =  np.abs(x_array - x)\n",
    "    i = np.argmin(abs_difference_array)\n",
    "    return i"
   ]
  },
  {
   "cell_type": "code",
   "execution_count": 6,
   "id": "f599b07f-53ff-442d-b9cc-860bbf513f03",
   "metadata": {},
   "outputs": [
    {
     "name": "stdout",
     "output_type": "stream",
     "text": [
      "index = 4 nearest value = 3.1\n"
     ]
    }
   ],
   "source": [
    "# testing function on some arbritray array\n",
    "a = np.array([3, 2.1, 5, 7, 3.1, 9, 1.5, 6]) # an arbritray array\n",
    "# find nearest point to 3.14\n",
    "ind = nearest_point(a, 3.14) \n",
    "print('index =', ind, 'nearest value =', a[ind])"
   ]
  },
  {
   "cell_type": "code",
   "execution_count": 7,
   "id": "3310d5a9-5e3d-4c38-8631-194df673457c",
   "metadata": {},
   "outputs": [
    {
     "name": "stdout",
     "output_type": "stream",
     "text": [
      "y(3.14) = 28\n"
     ]
    }
   ],
   "source": [
    "# therefore in our question y(3.14) would be:\n",
    "ind = nearest_point(x, 3.14)\n",
    "result = y[ind]\n",
    "print('y(3.14) =', result)"
   ]
  },
  {
   "cell_type": "code",
   "execution_count": 8,
   "id": "19f61aae-716e-472a-a3e5-08bfba7c2226",
   "metadata": {},
   "outputs": [
    {
     "name": "stdout",
     "output_type": "stream",
     "text": [
      "correct y (3.14) is 31.099544\n"
     ]
    }
   ],
   "source": [
    "# Because we know the function we can see how close we are\n",
    "res = polynomial_function(3.14)\n",
    "print('correct y (3.14) is', res)"
   ]
  },
  {
   "cell_type": "code",
   "execution_count": 9,
   "id": "7c26ea7f-cdd5-4977-a4da-43c63b253769",
   "metadata": {},
   "outputs": [],
   "source": [
    "#In conclusion we are quite close! 28 vs. 31 "
   ]
  },
  {
   "cell_type": "markdown",
   "id": "6d56efde-1357-4e4a-8e12-863213d80179",
   "metadata": {},
   "source": [
    "## 2. Linear Interpolation\n",
    "\n",
    "Equation of line $y = mx + c$. \\\n",
    "Find two points $(x_0, y_0)$ and $(x_1, y_1)$ where $x_0<x\\le x_1$\n",
    "\n",
    "The formula to use is: \\\n",
    "$ y =  y_0 L_0 + y_1 L_1$ \\\n",
    "where \\\n",
    "$L_0 = \\frac{(x-x_1)}{(x_0-x_1)}$ \\\n",
    "$L_1 = \\frac{(x-x_0)}{(x_1-x_0)}$\n"
   ]
  },
  {
   "cell_type": "code",
   "execution_count": 10,
   "id": "76232099-bdac-419d-977a-acaa4c01ba05",
   "metadata": {},
   "outputs": [
    {
     "name": "stdout",
     "output_type": "stream",
     "text": [
      "index = 8 nearest value = 3\n"
     ]
    }
   ],
   "source": [
    "# Lets find two nearest points with x0 < x < x1  --> one needs to be careful here \n",
    "# Let's take one example\n",
    "ind = nearest_point(x, 3.14) \n",
    "print('index =', ind, 'nearest value =', x[ind])\n",
    "# we get a point x0 here becasue x0 < x"
   ]
  },
  {
   "cell_type": "code",
   "execution_count": 11,
   "id": "009439fa-c52c-4b98-8866-b7a9d3571ff4",
   "metadata": {},
   "outputs": [
    {
     "name": "stdout",
     "output_type": "stream",
     "text": [
      "index = 9 nearest value = 4\n"
     ]
    }
   ],
   "source": [
    "# Let's take another example\n",
    "ind = nearest_point(x, 3.6) \n",
    "print('index =', ind, 'nearest value =', x[ind])\n",
    "# now we get a point x1 here becasue x1 > x"
   ]
  },
  {
   "cell_type": "markdown",
   "id": "30ab45b1-1f68-4176-99cd-62be8a52564d",
   "metadata": {},
   "source": [
    "* From about two examples it is clear that we need to be careful to find which is x0 and which is x1\n",
    "* So lets use if condition and write a small function to do this. Later we will use this in our code\n"
   ]
  },
  {
   "cell_type": "code",
   "execution_count": 12,
   "id": "a65d4a8c-534c-4cd8-abed-c3bb00a3e0db",
   "metadata": {},
   "outputs": [],
   "source": [
    "def find_nearest_two_indices(x_array, x):\n",
    "    ind = nearest_point(x_array, x)\n",
    "    if x_array[ind] > x: \n",
    "        ind_x1 = ind\n",
    "        ind_x0 = ind - 1\n",
    "    else:\n",
    "        ind_x0 = ind\n",
    "        ind_x1 = ind + 1\n",
    "        \n",
    "    return ind_x0, ind_x1\n",
    "\n",
    "# note that this function will be useless if the index 'ind' is either the first or last element of x \n",
    "# homework for you is to modify it to accommodate this issue in it"
   ]
  },
  {
   "cell_type": "code",
   "execution_count": 13,
   "id": "7b2037a2-d5c5-4cac-9b2d-1c2661ad954a",
   "metadata": {},
   "outputs": [
    {
     "name": "stdout",
     "output_type": "stream",
     "text": [
      "x0 = 3 and  x1 = 4\n"
     ]
    }
   ],
   "source": [
    "# Let's test it\n",
    "i, j = find_nearest_two_indices(x, 3.14)\n",
    "print ('x0 =', x[i], 'and  x1 =', x[j])"
   ]
  },
  {
   "cell_type": "code",
   "execution_count": 14,
   "id": "b0b34072-aeec-4723-879c-34fa1565cbc7",
   "metadata": {},
   "outputs": [
    {
     "name": "stdout",
     "output_type": "stream",
     "text": [
      "x0 = 3 and  x1 = 4\n"
     ]
    }
   ],
   "source": [
    "# Let's test it\n",
    "i, j = find_nearest_two_indices(x, 3.64)\n",
    "print ('x0 =', x[i], 'and  x1 =', x[j])"
   ]
  },
  {
   "cell_type": "markdown",
   "id": "135f7494-728e-4562-96db-8d7ece0a68cf",
   "metadata": {},
   "source": [
    "* The above function works (but see the note below the function)\n",
    "* Now lets write the linear interpolation function"
   ]
  },
  {
   "cell_type": "code",
   "execution_count": 15,
   "id": "3c20ba81-e382-4da5-9624-ff29a31c0c68",
   "metadata": {},
   "outputs": [],
   "source": [
    "def linear_interpolation(x_array, y_array, x):\n",
    "    \n",
    "    i, j = find_nearest_two_indices(x_array, x)\n",
    "    \n",
    "    x0 = x_array[i]\n",
    "    y0 = y_array[i]\n",
    "\n",
    "    x1 = x_array[j]\n",
    "    y1 = y_array[j]\n",
    "\n",
    "    L0 = (x-x1)/(x0-x1)\n",
    "    L1 = (x-x0)/(x1-x0)\n",
    "\n",
    "    y = y0*L0 + y1*L1\n",
    "\n",
    "    return y\n",
    "    "
   ]
  },
  {
   "cell_type": "code",
   "execution_count": 16,
   "id": "f0f0b405-8e32-4556-9a8e-335dfef1b531",
   "metadata": {},
   "outputs": [
    {
     "name": "stdout",
     "output_type": "stream",
     "text": [
      "result = 32.2\n"
     ]
    }
   ],
   "source": [
    "# Lets test it\n",
    "res = linear_interpolation(x, y, 3.14)\n",
    "print('result =', res)"
   ]
  },
  {
   "cell_type": "code",
   "execution_count": 17,
   "id": "c81013ff-c27c-4ca1-8c66-1a5f4cff9e82",
   "metadata": {},
   "outputs": [
    {
     "name": "stdout",
     "output_type": "stream",
     "text": [
      "correct y (3.14) is 31.099544\n"
     ]
    }
   ],
   "source": [
    "# Because we know the function we can see how close we are\n",
    "res = polynomial_function(3.14)\n",
    "print('correct y (3.14) is', res)"
   ]
  },
  {
   "cell_type": "code",
   "execution_count": 18,
   "id": "a1f387bf-ea89-471d-9c7b-d839780111e4",
   "metadata": {},
   "outputs": [],
   "source": [
    "# now we are even closer 31.1 vs 32.2"
   ]
  },
  {
   "cell_type": "markdown",
   "id": "f757f584-5bee-43b5-a86c-2d6efc35afb1",
   "metadata": {},
   "source": [
    "## 3. Quadratic interpolation\n",
    "\n",
    "Equation of line $y = ax^2 + bx +c$. We want to find a, b & c for given three points $(x_0, y_0)$, $(x_1, y_1)$ and $(x_2, y_2)$\n",
    "\n",
    "* solution is \n",
    "\n",
    "$y = y_0 L_0(x) + y_1 L_1(x) + y_2 L_2(x)$ \n",
    "\n",
    "$L_0 = \\frac{(x-x_1)(x-x_2)}{(x_0-x_1) (x_0-x_2)}$\n",
    "\n",
    "$L_1 = \\frac{(x-x_0)(x-x_2)}{(x_1-x_0) (x_1-x_2)}$\n",
    "\n",
    "$L_2 = \\frac{(x-x_0)(x-x_1)}{(x_2-x_0) (x_2-x_1)}$\n"
   ]
  },
  {
   "cell_type": "markdown",
   "id": "71a59c79-9e98-4420-9b39-5a475d8a4cf8",
   "metadata": {},
   "source": [
    "## 4. Higher degree polynomial interpolation\n",
    "\n",
    "Equation of curve is n degree polynomial. Get $n+1$ points $(x_0, y_0)$, $(x_1, y_1)$, ..., $(x_n, y_n)$\n",
    "\n",
    "* solution is \n",
    "\n",
    "$y = y_0 L_0(x) + y_1 L_1(x) + ... + y_n L_n(x)$ \n",
    "\n",
    "$L_0 = \\frac{(x-x_1)(x-x_2)\\, ... \\,(x-x_n)}{(x_0-x_1) (x_0-x_2) \\, ... \\, (x_0-x_n)}$\n",
    "\n",
    "$L_1 = \\frac{(x-x_0)(x-x_2)\\, ... \\,(x-x_n)}{(x_1-x_0) (x_1-x_2)\\, ... \\, (x_1-x_n)}$\n",
    "\n",
    ".\n",
    ".\n",
    ".\n",
    "\n"
   ]
  },
  {
   "cell_type": "code",
   "execution_count": null,
   "id": "8cc148aa-e7ac-4500-a115-d1e9e494d8fb",
   "metadata": {},
   "outputs": [],
   "source": []
  }
 ],
 "metadata": {
  "kernelspec": {
   "display_name": "Python 3 (ipykernel)",
   "language": "python",
   "name": "python3"
  },
  "language_info": {
   "codemirror_mode": {
    "name": "ipython",
    "version": 3
   },
   "file_extension": ".py",
   "mimetype": "text/x-python",
   "name": "python",
   "nbconvert_exporter": "python",
   "pygments_lexer": "ipython3",
   "version": "3.12.7"
  }
 },
 "nbformat": 4,
 "nbformat_minor": 5
}
