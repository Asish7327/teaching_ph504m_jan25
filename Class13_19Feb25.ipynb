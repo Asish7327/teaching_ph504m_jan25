{
 "cells": [
  {
   "cell_type": "markdown",
   "id": "36898cfc-0862-43e7-add4-cd548bdd5691",
   "metadata": {},
   "source": [
    "## Matrix Algebrea\n",
    "\n",
    "Date 19 Feb 25 \\\n",
    "Class 13\n",
    "\n",
    "(Note Class 11 was line Bayesian Analysis and Chi-square theory; 12 was general advice on Lab malpractice)\n"
   ]
  },
  {
   "cell_type": "markdown",
   "id": "328c4f5e-96ab-414f-98c5-2a0fb267824b",
   "metadata": {},
   "source": [
    "#### Recap of basic matrix operations"
   ]
  },
  {
   "cell_type": "code",
   "execution_count": 1,
   "id": "d50f2260-5842-4a9c-abcd-8815939a8ac4",
   "metadata": {},
   "outputs": [
    {
     "name": "stdout",
     "output_type": "stream",
     "text": [
      "[[1 2 3]\n",
      " [4 5 6]\n",
      " [7 8 9]]\n"
     ]
    }
   ],
   "source": [
    "import numpy as np\n",
    "# define a matrix\n",
    "A = np.array([[1,2,3], [4,5,6], [7,8,9]])\n",
    "print(A)"
   ]
  },
  {
   "cell_type": "code",
   "execution_count": 2,
   "id": "49494028-60f0-4a04-a36a-0efb804a2355",
   "metadata": {},
   "outputs": [
    {
     "name": "stdout",
     "output_type": "stream",
     "text": [
      "[1 2 3]\n"
     ]
    }
   ],
   "source": [
    "# access rows\n",
    "print(A[0]) # first row"
   ]
  },
  {
   "cell_type": "code",
   "execution_count": 3,
   "id": "95fcc775-2cf3-4d93-9cab-e12dd1803dd5",
   "metadata": {},
   "outputs": [
    {
     "name": "stdout",
     "output_type": "stream",
     "text": [
      "6\n"
     ]
    }
   ],
   "source": [
    "# access elements\n",
    "print(A[1, 2]) # element A12 -- Note first element is A00"
   ]
  },
  {
   "cell_type": "code",
   "execution_count": 4,
   "id": "8bdcb242-4810-45ec-9a90-9ff1f67d8125",
   "metadata": {},
   "outputs": [
    {
     "name": "stdout",
     "output_type": "stream",
     "text": [
      "[5 6]\n"
     ]
    }
   ],
   "source": [
    "print(A[1, 1:]) # print all element of second row from element number 2 and more"
   ]
  },
  {
   "cell_type": "code",
   "execution_count": 5,
   "id": "2727511b-dec1-4df3-ada5-10967db98188",
   "metadata": {},
   "outputs": [
    {
     "name": "stdout",
     "output_type": "stream",
     "text": [
      "[1 4 7]\n"
     ]
    }
   ],
   "source": [
    "# access columns\n",
    "print(A[:, 0]) # first column"
   ]
  },
  {
   "cell_type": "code",
   "execution_count": 6,
   "id": "edd51182-0a3c-4d3b-91e0-9c4e4cd3a71e",
   "metadata": {},
   "outputs": [
    {
     "name": "stdout",
     "output_type": "stream",
     "text": [
      "(2, 3) B - dimensions\n"
     ]
    }
   ],
   "source": [
    "# access the dimensions of the matrix\n",
    "B = np.array([[1,2,3], [4,5,6]]) # define 2*3 matrix\n",
    "print(B.shape, 'B - dimensions')"
   ]
  },
  {
   "cell_type": "code",
   "execution_count": 7,
   "id": "dc22756f-4b18-4af2-bed9-3bb881484a6a",
   "metadata": {},
   "outputs": [
    {
     "name": "stdout",
     "output_type": "stream",
     "text": [
      "(3, 3)\n"
     ]
    }
   ],
   "source": [
    "print(A.shape)"
   ]
  },
  {
   "cell_type": "code",
   "execution_count": 8,
   "id": "1b223117-9da7-4559-929d-4dbed599a218",
   "metadata": {},
   "outputs": [
    {
     "name": "stdout",
     "output_type": "stream",
     "text": [
      "3 --- number of columns\n",
      "2 --- number of rows\n"
     ]
    }
   ],
   "source": [
    "print(B.shape[1], '--- number of columns')\n",
    "print(B.shape[0], '--- number of rows')"
   ]
  },
  {
   "cell_type": "code",
   "execution_count": 9,
   "id": "5d380968-70c1-4c4e-8d43-04fdc4f27d55",
   "metadata": {},
   "outputs": [
    {
     "name": "stdout",
     "output_type": "stream",
     "text": [
      "[1 4 7]  --> column no. 0\n",
      "[2 5 8]  --> column no. 1\n",
      "[3 6 9]  --> column no. 2\n"
     ]
    }
   ],
   "source": [
    "# using shape to get all columns\n",
    "for i in range(A.shape[1]):\n",
    "    print(A[:, i], ' --> column no.', i)\n"
   ]
  },
  {
   "cell_type": "code",
   "execution_count": 10,
   "id": "69434134-79c3-419d-bf99-b32297ba4604",
   "metadata": {},
   "outputs": [
    {
     "name": "stdout",
     "output_type": "stream",
     "text": [
      "[[0. 0. 0. 0.]\n",
      " [0. 0. 0. 0.]\n",
      " [0. 0. 0. 0.]]\n"
     ]
    }
   ],
   "source": [
    "# define a matrix (say 3*4) with all elements zero\n",
    "C = np.zeros((3, 4))\n",
    "print(C)"
   ]
  },
  {
   "cell_type": "markdown",
   "id": "b646d3dd-d52d-4469-91d7-a2063d7edd07",
   "metadata": {},
   "source": [
    "#### Code for matrix multiplications "
   ]
  },
  {
   "cell_type": "code",
   "execution_count": 11,
   "id": "3d96a513-bd15-427e-bbdd-7466fb44863e",
   "metadata": {},
   "outputs": [],
   "source": [
    "# define two matrics\n",
    "A = np.array([[1, 2], [2, 1]])\n",
    "B = np.array([[2, 3], [3, 4]])"
   ]
  },
  {
   "cell_type": "code",
   "execution_count": 12,
   "id": "13d89bc6-dc07-47d7-af2e-db7438b00ad0",
   "metadata": {},
   "outputs": [
    {
     "name": "stdout",
     "output_type": "stream",
     "text": [
      "A \n",
      " [[1 2]\n",
      " [2 1]]\n",
      "B \n",
      " [[2 3]\n",
      " [3 4]]\n",
      "A*B \n",
      " [[ 8 11]\n",
      " [ 7 10]]\n"
     ]
    }
   ],
   "source": [
    "print('A \\n', A)\n",
    "print('B \\n', B)\n",
    "print('A*B \\n', np.matmul(A, B))"
   ]
  },
  {
   "cell_type": "code",
   "execution_count": 13,
   "id": "cc4009a7-8b5c-40d1-a4be-352f877bfcf4",
   "metadata": {},
   "outputs": [],
   "source": [
    "# write a function to perform matrix multiplication\n",
    "\n",
    "def matrix_multiplication(A, B):\n",
    "    \"\"\"\n",
    "    parameters:\n",
    "    A: matrix\n",
    "    B: matrix\n",
    "\n",
    "    Returns: A*B\n",
    "    \"\"\"\n",
    "\n",
    "    # define the shape of A*B\n",
    "    A_shape = A.shape\n",
    "    B_shape = B.shape\n",
    "\n",
    "    # check if we can perform A*B operation\n",
    "    if A.shape[1] is not B.shape[0]:\n",
    "        print('Can not multiply matrices with shapes', A_shape, B_shape)\n",
    "        return\n",
    "\n",
    "    # define a zero matrix\n",
    "    C = np.zeros((A.shape[0], B.shape[1]))\n",
    "\n",
    "    # perform A*B\n",
    "    for i in range(A.shape[0]):\n",
    "        for j in range(B.shape[1]):\n",
    "            C[i, j] = np.sum(A[i, :]*B[:, j])\n",
    "\n",
    "    return C\n",
    "    \n"
   ]
  },
  {
   "cell_type": "code",
   "execution_count": 14,
   "id": "3392347b-7a45-4ac9-b3fa-c51555c7d774",
   "metadata": {},
   "outputs": [
    {
     "name": "stdout",
     "output_type": "stream",
     "text": [
      "8\n"
     ]
    }
   ],
   "source": [
    "P = np.array([1, 2])\n",
    "Q = np.array([2, 3])\n",
    "print(np.sum(P*Q))"
   ]
  },
  {
   "cell_type": "code",
   "execution_count": 15,
   "id": "ec78d2c2-c6cb-4870-8c5e-3e6b53729007",
   "metadata": {},
   "outputs": [
    {
     "data": {
      "text/plain": [
       "array([[ 8., 11.],\n",
       "       [ 7., 10.]])"
      ]
     },
     "execution_count": 15,
     "metadata": {},
     "output_type": "execute_result"
    }
   ],
   "source": [
    "matrix_multiplication(A, B)"
   ]
  },
  {
   "cell_type": "code",
   "execution_count": 16,
   "id": "86212594-16f1-4fb3-b262-91cb72605887",
   "metadata": {},
   "outputs": [
    {
     "name": "stdout",
     "output_type": "stream",
     "text": [
      "Can not multiply matrices with shapes (2, 2) (3, 3)\n"
     ]
    }
   ],
   "source": [
    "C = np.array([[1,2,3], [4,5,6], [7,8,9]])\n",
    "matrix_multiplication(A, C)"
   ]
  },
  {
   "cell_type": "markdown",
   "id": "02757546-b144-423b-bbeb-89adf9f1b7a5",
   "metadata": {},
   "source": [
    "#### get a random interger matrix"
   ]
  },
  {
   "cell_type": "code",
   "execution_count": 17,
   "id": "cd7befc1-9e4d-4895-b865-b05a347c5c61",
   "metadata": {},
   "outputs": [
    {
     "data": {
      "text/plain": [
       "\u001b[0;31mDocstring:\u001b[0m\n",
       "randint(low, high=None, size=None, dtype=int)\n",
       "\n",
       "Return random integers from `low` (inclusive) to `high` (exclusive).\n",
       "\n",
       "Return random integers from the \"discrete uniform\" distribution of\n",
       "the specified dtype in the \"half-open\" interval [`low`, `high`). If\n",
       "`high` is None (the default), then results are from [0, `low`).\n",
       "\n",
       ".. note::\n",
       "    New code should use the `~numpy.random.Generator.integers`\n",
       "    method of a `~numpy.random.Generator` instance instead;\n",
       "    please see the :ref:`random-quick-start`.\n",
       "\n",
       "Parameters\n",
       "----------\n",
       "low : int or array-like of ints\n",
       "    Lowest (signed) integers to be drawn from the distribution (unless\n",
       "    ``high=None``, in which case this parameter is one above the\n",
       "    *highest* such integer).\n",
       "high : int or array-like of ints, optional\n",
       "    If provided, one above the largest (signed) integer to be drawn\n",
       "    from the distribution (see above for behavior if ``high=None``).\n",
       "    If array-like, must contain integer values\n",
       "size : int or tuple of ints, optional\n",
       "    Output shape.  If the given shape is, e.g., ``(m, n, k)``, then\n",
       "    ``m * n * k`` samples are drawn.  Default is None, in which case a\n",
       "    single value is returned.\n",
       "dtype : dtype, optional\n",
       "    Desired dtype of the result. Byteorder must be native.\n",
       "    The default value is int.\n",
       "\n",
       "    .. versionadded:: 1.11.0\n",
       "\n",
       "Returns\n",
       "-------\n",
       "out : int or ndarray of ints\n",
       "    `size`-shaped array of random integers from the appropriate\n",
       "    distribution, or a single such random int if `size` not provided.\n",
       "\n",
       "See Also\n",
       "--------\n",
       "random_integers : similar to `randint`, only for the closed\n",
       "    interval [`low`, `high`], and 1 is the lowest value if `high` is\n",
       "    omitted.\n",
       "random.Generator.integers: which should be used for new code.\n",
       "\n",
       "Examples\n",
       "--------\n",
       ">>> np.random.randint(2, size=10)\n",
       "array([1, 0, 0, 0, 1, 1, 0, 0, 1, 0]) # random\n",
       ">>> np.random.randint(1, size=10)\n",
       "array([0, 0, 0, 0, 0, 0, 0, 0, 0, 0])\n",
       "\n",
       "Generate a 2 x 4 array of ints between 0 and 4, inclusive:\n",
       "\n",
       ">>> np.random.randint(5, size=(2, 4))\n",
       "array([[4, 0, 2, 1], # random\n",
       "       [3, 2, 2, 0]])\n",
       "\n",
       "Generate a 1 x 3 array with 3 different upper bounds\n",
       "\n",
       ">>> np.random.randint(1, [3, 5, 10])\n",
       "array([2, 2, 9]) # random\n",
       "\n",
       "Generate a 1 by 3 array with 3 different lower bounds\n",
       "\n",
       ">>> np.random.randint([1, 5, 7], 10)\n",
       "array([9, 8, 7]) # random\n",
       "\n",
       "Generate a 2 by 4 array using broadcasting with dtype of uint8\n",
       "\n",
       ">>> np.random.randint([1, 3, 5, 7], [[10], [20]], dtype=np.uint8)\n",
       "array([[ 8,  6,  9,  7], # random\n",
       "       [ 1, 16,  9, 12]], dtype=uint8)\n",
       "\u001b[0;31mType:\u001b[0m      builtin_function_or_method"
      ]
     },
     "metadata": {},
     "output_type": "display_data"
    }
   ],
   "source": [
    "np.random.randint?"
   ]
  },
  {
   "cell_type": "code",
   "execution_count": 18,
   "id": "98a56e6d-847a-4943-a963-dece15e00ed8",
   "metadata": {},
   "outputs": [
    {
     "name": "stdout",
     "output_type": "stream",
     "text": [
      "[[3 3 5 2]\n",
      " [3 2 2 9]\n",
      " [0 0 4 0]]\n"
     ]
    }
   ],
   "source": [
    "P = np.random.randint(low=0, high=10, size=(3, 4))\n",
    "print(P)"
   ]
  },
  {
   "cell_type": "code",
   "execution_count": 19,
   "id": "8c355a9d-bf72-4b73-8c39-27bff6034c53",
   "metadata": {},
   "outputs": [
    {
     "name": "stdout",
     "output_type": "stream",
     "text": [
      "[[4 2 4 8 3]\n",
      " [4 4 4 2 0]\n",
      " [5 8 9 4 8]\n",
      " [5 5 2 9 0]]\n"
     ]
    }
   ],
   "source": [
    "Q = np.random.randint(low=0, high=10, size=(4, 5))\n",
    "print(Q)"
   ]
  },
  {
   "cell_type": "code",
   "execution_count": 20,
   "id": "e2dceaad-b00f-47cc-bfdf-2a87e5258759",
   "metadata": {},
   "outputs": [
    {
     "name": "stdout",
     "output_type": "stream",
     "text": [
      "[[ 59.  68.  73.  68.  49.]\n",
      " [ 75.  75.  56. 117.  25.]\n",
      " [ 20.  32.  36.  16.  32.]]\n"
     ]
    }
   ],
   "source": [
    "PQ = matrix_multiplication(P, Q)\n",
    "print(PQ)"
   ]
  },
  {
   "cell_type": "code",
   "execution_count": 21,
   "id": "4fa7ee59-85e5-4457-a02b-0654a95868e8",
   "metadata": {},
   "outputs": [
    {
     "name": "stdout",
     "output_type": "stream",
     "text": [
      "[[ 59  68  73  68  49]\n",
      " [ 75  75  56 117  25]\n",
      " [ 20  32  36  16  32]]\n"
     ]
    }
   ],
   "source": [
    "print(np.matmul(P, Q))"
   ]
  },
  {
   "cell_type": "code",
   "execution_count": 22,
   "id": "122664fc-ff1f-4ca4-be2c-f6550b8a5671",
   "metadata": {},
   "outputs": [
    {
     "name": "stdout",
     "output_type": "stream",
     "text": [
      "[[ 59  68  73  68  49]\n",
      " [ 75  75  56 117  25]\n",
      " [ 20  32  36  16  32]]\n"
     ]
    }
   ],
   "source": [
    "print(P@Q)"
   ]
  },
  {
   "cell_type": "code",
   "execution_count": null,
   "id": "2d158473-add1-49c3-a8f0-e58d863a97eb",
   "metadata": {},
   "outputs": [],
   "source": []
  }
 ],
 "metadata": {
  "kernelspec": {
   "display_name": "Python 3 (ipykernel)",
   "language": "python",
   "name": "python3"
  },
  "language_info": {
   "codemirror_mode": {
    "name": "ipython",
    "version": 3
   },
   "file_extension": ".py",
   "mimetype": "text/x-python",
   "name": "python",
   "nbconvert_exporter": "python",
   "pygments_lexer": "ipython3",
   "version": "3.12.7"
  }
 },
 "nbformat": 4,
 "nbformat_minor": 5
}
