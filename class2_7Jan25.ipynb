{
 "cells": [
  {
   "cell_type": "markdown",
   "metadata": {},
   "source": [
    "# Python basics \n",
    "\n",
    "by Vikram Khaire  \n",
    "\n",
    "Computational Physics (PH504M) at IIT Tirupati\n",
    "\n",
    "Date: January 7, 2025\n",
    "\n",
    "Applicable for version 3.0 and above"
   ]
  },
  {
   "cell_type": "markdown",
   "metadata": {},
   "source": [
    "* Printing output: use print(); Print() does not work (python is case sensitive)"
   ]
  },
  {
   "cell_type": "code",
   "execution_count": 1,
   "metadata": {},
   "outputs": [
    {
     "name": "stdout",
     "output_type": "stream",
     "text": [
      "Hellow class\n"
     ]
    }
   ],
   "source": [
    "print(\"Hellow class\")"
   ]
  },
  {
   "cell_type": "code",
   "execution_count": 2,
   "metadata": {},
   "outputs": [
    {
     "name": "stdout",
     "output_type": "stream",
     "text": [
      "Hellow class\n"
     ]
    }
   ],
   "source": [
    "print('Hellow class') # ' and \" are used interchangably "
   ]
  },
  {
   "cell_type": "code",
   "execution_count": 3,
   "metadata": {},
   "outputs": [
    {
     "name": "stdout",
     "output_type": "stream",
     "text": [
      "-25\n"
     ]
    }
   ],
   "source": [
    "print(2+3-3*10)"
   ]
  },
  {
   "cell_type": "markdown",
   "metadata": {},
   "source": [
    "Note: in jupyter notebook or ipython you don't have to write print()"
   ]
  },
  {
   "cell_type": "code",
   "execution_count": 4,
   "metadata": {},
   "outputs": [
    {
     "data": {
      "text/plain": [
       "-25"
      ]
     },
     "execution_count": 4,
     "metadata": {},
     "output_type": "execute_result"
    }
   ],
   "source": [
    "2+3-3*10"
   ]
  },
  {
   "cell_type": "code",
   "execution_count": 5,
   "metadata": {},
   "outputs": [
    {
     "name": "stdout",
     "output_type": "stream",
     "text": [
      "2.4545454545454546\n",
      "3.0\n",
      "2.7\n",
      "12\n",
      "12.0\n"
     ]
    }
   ],
   "source": [
    "print(27/11); print(27/9); print(27/10); print(3*4); print(3.0*4)"
   ]
  },
  {
   "cell_type": "markdown",
   "metadata": {},
   "source": [
    "Note: 1. print statements are seperated by ;\n",
    "2. Division is always float but the multiplication is not unless at least one of the numbers in multiplication is a float "
   ]
  },
  {
   "cell_type": "code",
   "execution_count": 6,
   "metadata": {},
   "outputs": [
    {
     "name": "stdout",
     "output_type": "stream",
     "text": [
      "25.0\n",
      "334\n",
      "vikram\n",
      "False\n",
      "[2, 3, 4.9, 'yes', 'India']\n"
     ]
    }
   ],
   "source": [
    "a=25.0\n",
    "b=334\n",
    "c='vikram'\n",
    "d=False\n",
    "e=[2, 3, 4.9, 'yes', 'India']\n",
    "print(a); print(b); print(c); print(d); print(e)"
   ]
  },
  {
   "cell_type": "markdown",
   "metadata": {},
   "source": [
    "* Types of the inputs (Float, Integer, String, Boolean) "
   ]
  },
  {
   "cell_type": "code",
   "execution_count": 7,
   "metadata": {},
   "outputs": [
    {
     "name": "stdout",
     "output_type": "stream",
     "text": [
      "<class 'float'>\n"
     ]
    }
   ],
   "source": [
    "print(type(a))"
   ]
  },
  {
   "cell_type": "code",
   "execution_count": 8,
   "metadata": {},
   "outputs": [
    {
     "name": "stdout",
     "output_type": "stream",
     "text": [
      "<class 'int'>\n"
     ]
    }
   ],
   "source": [
    "print(type(b))"
   ]
  },
  {
   "cell_type": "code",
   "execution_count": 9,
   "metadata": {},
   "outputs": [
    {
     "name": "stdout",
     "output_type": "stream",
     "text": [
      "<class 'str'>\n"
     ]
    }
   ],
   "source": [
    "print(type(c))"
   ]
  },
  {
   "cell_type": "code",
   "execution_count": 10,
   "metadata": {},
   "outputs": [
    {
     "name": "stdout",
     "output_type": "stream",
     "text": [
      "<class 'bool'>\n"
     ]
    }
   ],
   "source": [
    "print(type(d))"
   ]
  },
  {
   "cell_type": "code",
   "execution_count": 11,
   "metadata": {},
   "outputs": [
    {
     "name": "stdout",
     "output_type": "stream",
     "text": [
      "<class 'list'>\n"
     ]
    }
   ],
   "source": [
    "print(type(e))"
   ]
  },
  {
   "cell_type": "markdown",
   "metadata": {},
   "source": [
    "* Operations on different types"
   ]
  },
  {
   "cell_type": "code",
   "execution_count": 12,
   "metadata": {},
   "outputs": [
    {
     "name": "stdout",
     "output_type": "stream",
     "text": [
      "ab\n"
     ]
    }
   ],
   "source": [
    "print('a'+'b')"
   ]
  },
  {
   "cell_type": "code",
   "execution_count": 13,
   "metadata": {},
   "outputs": [
    {
     "name": "stdout",
     "output_type": "stream",
     "text": [
      "359.0\n"
     ]
    }
   ],
   "source": [
    "print(a+b)"
   ]
  },
  {
   "cell_type": "markdown",
   "metadata": {},
   "source": [
    "True and False are very important booleans "
   ]
  },
  {
   "cell_type": "code",
   "execution_count": 14,
   "metadata": {},
   "outputs": [
    {
     "name": "stdout",
     "output_type": "stream",
     "text": [
      "1\n"
     ]
    }
   ],
   "source": [
    "print(True + False)"
   ]
  },
  {
   "cell_type": "code",
   "execution_count": 15,
   "metadata": {},
   "outputs": [
    {
     "name": "stdout",
     "output_type": "stream",
     "text": [
      "True\n"
     ]
    }
   ],
   "source": [
    "print(True)"
   ]
  },
  {
   "cell_type": "code",
   "execution_count": 16,
   "metadata": {},
   "outputs": [
    {
     "name": "stdout",
     "output_type": "stream",
     "text": [
      "1\n"
     ]
    }
   ],
   "source": [
    "print(True**2)"
   ]
  },
  {
   "cell_type": "code",
   "execution_count": 17,
   "metadata": {},
   "outputs": [
    {
     "name": "stdout",
     "output_type": "stream",
     "text": [
      "0\n"
     ]
    }
   ],
   "source": [
    "print(True * False)"
   ]
  },
  {
   "cell_type": "code",
   "execution_count": 18,
   "metadata": {},
   "outputs": [
    {
     "name": "stdout",
     "output_type": "stream",
     "text": [
      "2\n"
     ]
    }
   ],
   "source": [
    "print(True + True)"
   ]
  },
  {
   "cell_type": "markdown",
   "metadata": {},
   "source": [
    "... because True=1 & False=0 (use True not true i.e capital T and not small t)"
   ]
  },
  {
   "cell_type": "markdown",
   "metadata": {},
   "source": [
    "* Changing the type for some operation"
   ]
  },
  {
   "cell_type": "code",
   "execution_count": 19,
   "metadata": {},
   "outputs": [
    {
     "name": "stdout",
     "output_type": "stream",
     "text": [
      "Answer to life, the universe, and everything is 42! :)\n"
     ]
    }
   ],
   "source": [
    "x='Answer to life, the universe, and everything is '\n",
    "ans=42\n",
    "print(x + str(ans) + '! :)')"
   ]
  },
  {
   "cell_type": "code",
   "execution_count": 20,
   "metadata": {},
   "outputs": [
    {
     "name": "stdout",
     "output_type": "stream",
     "text": [
      "5 times 5 equals 25\n"
     ]
    }
   ],
   "source": [
    "a=5\n",
    "b=5\n",
    "c=a*b\n",
    "print(str(a)+' times '+str(b) +' equals '+str(c))"
   ]
  },
  {
   "cell_type": "markdown",
   "metadata": {},
   "source": [
    "* List manipulations (note actual arrays will be slightly different)"
   ]
  },
  {
   "cell_type": "code",
   "execution_count": 21,
   "metadata": {},
   "outputs": [
    {
     "name": "stdout",
     "output_type": "stream",
     "text": [
      "[2, 3, 5, 3.5, 9, 8, 'yes', 'India', 'last']\n"
     ]
    }
   ],
   "source": [
    "e=[2,3,5,3.5, 9, 8, 'yes', 'India', 'last']\n",
    "print(e)"
   ]
  },
  {
   "cell_type": "code",
   "execution_count": 22,
   "metadata": {},
   "outputs": [
    {
     "name": "stdout",
     "output_type": "stream",
     "text": [
      "[2, 3, 5, 3.5, 9, 8, 'yes', 'India', 'last']\n"
     ]
    }
   ],
   "source": [
    "a=e # Let's call a =e so that a is also the same list e\n",
    "print(a)"
   ]
  },
  {
   "cell_type": "markdown",
   "metadata": {},
   "source": [
    "...here 'a' is new list but it is not correct way to define 'a', as you can see later"
   ]
  },
  {
   "cell_type": "code",
   "execution_count": 23,
   "metadata": {},
   "outputs": [
    {
     "name": "stdout",
     "output_type": "stream",
     "text": [
      "2\n",
      "last\n",
      "9\n"
     ]
    }
   ],
   "source": [
    "print(a[0])\n",
    "print(a[-1])\n",
    "print(a[4])"
   ]
  },
  {
   "cell_type": "markdown",
   "metadata": {},
   "source": [
    "... array/list starts from index 0 and index -1 is the last number in list/array (cool!)"
   ]
  },
  {
   "cell_type": "code",
   "execution_count": 24,
   "metadata": {},
   "outputs": [
    {
     "name": "stdout",
     "output_type": "stream",
     "text": [
      "[2, 3, 5, 3.5, 9]\n",
      "[2, 3, 5, 3.5, 9]\n",
      "[8, 'yes', 'India', 'last']\n",
      "[8, 'yes', 'India', 'last']\n"
     ]
    }
   ],
   "source": [
    "print(a[0:5])\n",
    "print(a[:5])\n",
    "print(a[5:9])\n",
    "print(a[5:])"
   ]
  },
  {
   "cell_type": "markdown",
   "metadata": {},
   "source": [
    "...a[x:y] will slice array from xth element to (y-1)th element \n",
    "...also a[x:] will pick all numbers after xth element including xth element\n",
    "...similarly a[:y] will pick all elements before yth element (not including yth element)"
   ]
  },
  {
   "cell_type": "code",
   "execution_count": 25,
   "metadata": {},
   "outputs": [
    {
     "data": {
      "text/plain": [
       "[2, 5, 9, 'yes', 'last']"
      ]
     },
     "execution_count": 25,
     "metadata": {},
     "output_type": "execute_result"
    }
   ],
   "source": [
    "a[::2]"
   ]
  },
  {
   "cell_type": "markdown",
   "metadata": {},
   "source": [
    "quick way of reversing array"
   ]
  },
  {
   "cell_type": "code",
   "execution_count": 26,
   "metadata": {},
   "outputs": [
    {
     "data": {
      "text/plain": [
       "['last', 'India', 'yes', 8, 9, 3.5, 5, 3, 2]"
      ]
     },
     "execution_count": 26,
     "metadata": {},
     "output_type": "execute_result"
    }
   ],
   "source": [
    "a[::-1]"
   ]
  },
  {
   "cell_type": "code",
   "execution_count": 27,
   "metadata": {},
   "outputs": [
    {
     "name": "stdout",
     "output_type": "stream",
     "text": [
      "[0, 2, 4, 6, 8, 10, 12]\n",
      "[1, 3, 5, 7, 9, 11]\n",
      "[0, 5, 10]\n",
      "[0, 1, 2, 3, 4, 5, 6, 7, 8, 9, 10, 11, 12]\n",
      "[12, 11, 10, 9, 8, 7, 6, 5, 4, 3, 2, 1, 0]\n",
      "[12, 10, 8, 6, 4, 2, 0]\n",
      "[12, 10, 8, 6, 4, 2]\n"
     ]
    }
   ],
   "source": [
    "# example 1d list manipulation\n",
    "aa=[0,1,2,3,4,5,6,7,8,9,10,11,12]\n",
    "print(aa[: :2]) # select elements with seperation 2\n",
    "print(aa[1: :2])# select elements with seperation 2 but from second element\n",
    "print(aa[: :5]) # select elements with seperation 5\n",
    "print(aa[: :1]) # select elements with seperation 1= same array\n",
    "print(aa[: :-1])# select elements with seperation -1= array reversed\n",
    "print(aa[: :-2])# select elements with seperation -2 \n",
    "print(aa[:1 :-2])# select elements with seperation -2 but up to second  last element"
   ]
  },
  {
   "cell_type": "markdown",
   "metadata": {},
   "source": [
    "...note on how to assign two different arrays"
   ]
  },
  {
   "cell_type": "code",
   "execution_count": 28,
   "metadata": {},
   "outputs": [
    {
     "name": "stdout",
     "output_type": "stream",
     "text": [
      "[2, 3, 5, 3.5, 9, 8, 'yes', 'India', 'last']\n"
     ]
    }
   ],
   "source": [
    "print(a)"
   ]
  },
  {
   "cell_type": "code",
   "execution_count": 29,
   "metadata": {},
   "outputs": [
    {
     "name": "stdout",
     "output_type": "stream",
     "text": [
      "[2, 3, 5, 3.5, 9, 8, 'yes', 'India', 'last']\n"
     ]
    }
   ],
   "source": [
    "print(e)"
   ]
  },
  {
   "cell_type": "markdown",
   "metadata": {},
   "source": [
    "...notice that both lists are same  ... now delete an element of a with del() function"
   ]
  },
  {
   "cell_type": "code",
   "execution_count": 30,
   "metadata": {},
   "outputs": [],
   "source": [
    "del(a[0]) # you can also use a.remove(a[0])"
   ]
  },
  {
   "cell_type": "code",
   "execution_count": 31,
   "metadata": {},
   "outputs": [
    {
     "name": "stdout",
     "output_type": "stream",
     "text": [
      "[3, 5, 3.5, 9, 8, 'yes', 'India', 'last']\n"
     ]
    }
   ],
   "source": [
    "print(a)"
   ]
  },
  {
   "cell_type": "code",
   "execution_count": 32,
   "metadata": {},
   "outputs": [
    {
     "name": "stdout",
     "output_type": "stream",
     "text": [
      "[3, 5, 3.5, 9, 8, 'yes', 'India', 'last']\n"
     ]
    }
   ],
   "source": [
    "print(e)"
   ]
  },
  {
   "cell_type": "markdown",
   "metadata": {},
   "source": [
    "...notice that you deleted first element in list a but it got deleted from list e as well   ...reason for this is the way we assigned the list a and e in Input line [16], it did not create another array rather just give two different name to the stored array/list "
   ]
  },
  {
   "cell_type": "markdown",
   "metadata": {},
   "source": [
    "...correct way of doing this (creating new array a which is same as b so that you play with a without screawing e) \n",
    "is as follows"
   ]
  },
  {
   "cell_type": "code",
   "execution_count": 33,
   "metadata": {},
   "outputs": [],
   "source": [
    "a=list(e)"
   ]
  },
  {
   "cell_type": "code",
   "execution_count": 34,
   "metadata": {},
   "outputs": [
    {
     "name": "stdout",
     "output_type": "stream",
     "text": [
      "[3, 5, 3.5, 9]\n",
      "[3, 5, 3.5, 9, 8, 'yes', 'India', 'last']\n"
     ]
    }
   ],
   "source": [
    "del(a[4:])\n",
    "print(a)\n",
    "print(e)"
   ]
  },
  {
   "cell_type": "markdown",
   "metadata": {},
   "source": [
    "...another way is"
   ]
  },
  {
   "cell_type": "code",
   "execution_count": 35,
   "metadata": {},
   "outputs": [
    {
     "name": "stdout",
     "output_type": "stream",
     "text": [
      "['yes', 'India', 'last']\n",
      "[3, 5, 3.5, 9, 8, 'yes', 'India', 'last']\n"
     ]
    }
   ],
   "source": [
    "b=e[:]\n",
    "del(b[:5])\n",
    "print(b)\n",
    "print(e)"
   ]
  }
 ],
 "metadata": {
  "kernelspec": {
   "display_name": "Python 3 (ipykernel)",
   "language": "python",
   "name": "python3"
  },
  "language_info": {
   "codemirror_mode": {
    "name": "ipython",
    "version": 3
   },
   "file_extension": ".py",
   "mimetype": "text/x-python",
   "name": "python",
   "nbconvert_exporter": "python",
   "pygments_lexer": "ipython3",
   "version": "3.12.7"
  }
 },
 "nbformat": 4,
 "nbformat_minor": 4
}
