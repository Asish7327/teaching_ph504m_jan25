{
 "cells": [
  {
   "cell_type": "markdown",
   "id": "7dad5f7d-c7b8-4db9-953b-3f41b41798aa",
   "metadata": {},
   "source": [
    "# Basics of Matrices"
   ]
  },
  {
   "cell_type": "code",
   "execution_count": null,
   "id": "d00a3bc8-5db4-4c1f-87fa-18e7585a5701",
   "metadata": {},
   "outputs": [],
   "source": [
    "# import NumPy\n",
    "import numpy as np"
   ]
  },
  {
   "cell_type": "code",
   "execution_count": null,
   "id": "3e529a17-e9cd-4733-bd8a-9125efbd2366",
   "metadata": {},
   "outputs": [],
   "source": [
    "# create a 2 x 2 matrix example\n",
    "A = np.array([[1, 2, 3], \n",
    "     [4, 5, 6],\n",
    "     [7, 8, 9]])\n",
    "print(A)"
   ]
  },
  {
   "cell_type": "code",
   "execution_count": null,
   "id": "0a514155-37df-4ec2-991d-bc92066cf112",
   "metadata": {},
   "outputs": [],
   "source": [
    "# access an element\n",
    "print(A[0, 0])\n",
    "print(A[0, 1])\n",
    "print(A[0, 2])\n",
    "print(A[1, 1])\n",
    "print(A[2, 2])"
   ]
  },
  {
   "cell_type": "code",
   "execution_count": null,
   "id": "95a8f013-e304-4d02-9a5d-7b8c8c4a7563",
   "metadata": {},
   "outputs": [],
   "source": [
    "# accessing whole rows and columns\n",
    "print(A[0, :]) # first row\n",
    "print(A[2, :]) # third row"
   ]
  },
  {
   "cell_type": "code",
   "execution_count": null,
   "id": "aa0a2eb4-e4ca-4de7-a89b-45c37cee8cb3",
   "metadata": {},
   "outputs": [],
   "source": [
    "print(A[:, 0]) # first column\n",
    "print(A[:, 2]) # third column"
   ]
  },
  {
   "cell_type": "code",
   "execution_count": null,
   "id": "b1e8263b-6e49-4b59-b986-cd0e3200436e",
   "metadata": {},
   "outputs": [],
   "source": [
    "# slicing matrices\n",
    "print(A[0:2, 0:2])"
   ]
  },
  {
   "cell_type": "code",
   "execution_count": null,
   "id": "ddea7030-4183-45f9-a02f-b05487deb53a",
   "metadata": {},
   "outputs": [],
   "source": [
    "# replace an element in the matrix\n",
    "A[0, 0] = 10  # Change the element at row 0, column 0\n",
    "print(A)  "
   ]
  },
  {
   "cell_type": "code",
   "execution_count": null,
   "id": "48e18ac1-923d-476a-a4ad-fbe2a53b599c",
   "metadata": {},
   "outputs": [],
   "source": [
    "# access rows\n",
    "for row in A:\n",
    "    print(row)"
   ]
  },
  {
   "cell_type": "code",
   "execution_count": null,
   "id": "3d06ebc8-7e72-4cbd-b6c4-0598f4c75511",
   "metadata": {},
   "outputs": [],
   "source": [
    "# accesss elements in row\n",
    "for row in A:\n",
    "    for el in row:\n",
    "        print(el)"
   ]
  },
  {
   "cell_type": "code",
   "execution_count": null,
   "id": "4a1e7da3-8f66-470f-aca6-1b396b778b6b",
   "metadata": {},
   "outputs": [],
   "source": [
    "# how to access columns like the rows above -- use shape\n",
    "print('shape:', A.shape)\n",
    "print('rows:', A.shape[0], 'columns:', A.shape[1]) # get the row and column numbers"
   ]
  },
  {
   "cell_type": "code",
   "execution_count": null,
   "id": "601c18bf-27a4-41da-ba08-26078bd20012",
   "metadata": {},
   "outputs": [],
   "source": [
    "for col in range(A.shape[1]):  \n",
    "    print(A[:, col])"
   ]
  },
  {
   "cell_type": "code",
   "execution_count": null,
   "id": "abb7a119-b469-4e5e-a079-896495c27448",
   "metadata": {},
   "outputs": [],
   "source": [
    "# simple numpy operations on matrices\n",
    "# Matrix Addition\n",
    "B = np.array([[0.1, 0.2, 0.3], [0.4, 0.5, 0.6], [0.7, 0.8, 0.9]])\n",
    "print('Matrix B: \\n', B)\n",
    "C = A + B\n",
    "print(\"Matrix A + B:\")\n",
    "print(C)"
   ]
  },
  {
   "cell_type": "code",
   "execution_count": null,
   "id": "f29f49c0-b23d-4614-9e9e-1c94ea4d4365",
   "metadata": {},
   "outputs": [],
   "source": [
    "# Matrix Subtraction\n",
    "D = A - B\n",
    "print(\"Matrix A - B:\")\n",
    "print(D)\n",
    "\n",
    "# Matrix Multiplication (Dot Product)\n",
    "E = np.dot(A, B)\n",
    "# E = A @ B # also works\n",
    "print(\"\\nMatrix A * B (Dot Product):\")\n",
    "print(E)\n",
    "\n",
    "# Element-wise Multiplication (Hadamard Product)\n",
    "F = A * B\n",
    "print(\"\\nElement-wise Multiplication A * B:\")\n",
    "print(F)\n",
    "\n",
    "# Matrix Transpose\n",
    "G = A.T\n",
    "print(\"\\nTranspose of Matrix A:\")\n",
    "print(G)\n",
    "\n",
    "#Matrix Determinant\n",
    "det_A = np.linalg.det(A)\n",
    "print(\"\\nDeterminant of Matrix A:\")\n",
    "print(det_A)"
   ]
  },
  {
   "cell_type": "markdown",
   "id": "4f821118-9d80-454c-bba7-61c9728e5d31",
   "metadata": {},
   "source": [
    "# Plotting"
   ]
  },
  {
   "cell_type": "code",
   "execution_count": null,
   "id": "45ffd048-f87c-4cd0-bb7a-641a29751a84",
   "metadata": {},
   "outputs": [],
   "source": [
    "# let's create data to plot\n",
    "x= np.arange(-5, 5, 0.1)\n",
    "y = np.exp(-x**2)"
   ]
  },
  {
   "cell_type": "code",
   "execution_count": null,
   "id": "6a45ee27-d640-467b-b860-76ed9d8bf028",
   "metadata": {},
   "outputs": [],
   "source": [
    "import matplotlib.pyplot as plt"
   ]
  },
  {
   "cell_type": "code",
   "execution_count": null,
   "id": "872db72b-8d61-4ee8-97ce-d2b1448bedc9",
   "metadata": {},
   "outputs": [],
   "source": [
    "plt.plot(x,y)"
   ]
  },
  {
   "cell_type": "code",
   "execution_count": null,
   "id": "f5fb8b6c-9700-4038-a794-d390b0c6b1a5",
   "metadata": {},
   "outputs": [],
   "source": [
    "plt.plot(x,y)\n",
    "plt.grid()"
   ]
  },
  {
   "cell_type": "code",
   "execution_count": null,
   "id": "ca474625-660d-45af-9b37-b41137bac58e",
   "metadata": {},
   "outputs": [],
   "source": [
    "plt.plot(x,y, 'o')\n",
    "plt.grid()"
   ]
  },
  {
   "cell_type": "code",
   "execution_count": null,
   "id": "a7fb0cf2-19c0-40ad-a379-2072eda67d15",
   "metadata": {},
   "outputs": [],
   "source": [
    "plt.plot(x,y, 'o', c='black')\n",
    "plt.grid()"
   ]
  },
  {
   "cell_type": "code",
   "execution_count": null,
   "id": "55678132-5c5a-4439-a826-49aed68918ac",
   "metadata": {},
   "outputs": [],
   "source": [
    "plt.plot(x,y, 'o', c='black', markersize=6, markerfacecolor='pink', alpha= 0.9, linestyle = ':', linewidth = 2, label = 'Gaussian')\n",
    "plt.xlabel('x')\n",
    "plt.ylabel(r'$e^{-x^{2}}$')\n",
    "plt.legend()\n",
    "plt.grid()"
   ]
  },
  {
   "cell_type": "code",
   "execution_count": null,
   "id": "fdbe9fae-2b13-4a47-97ca-8f466d084ae2",
   "metadata": {},
   "outputs": [],
   "source": [
    "help(plt.plot)"
   ]
  },
  {
   "cell_type": "code",
   "execution_count": null,
   "id": "ea8ab11e-ebc7-4cdc-ad3b-16ce34990117",
   "metadata": {},
   "outputs": [],
   "source": [
    "# how to save figure?\n",
    "plt.plot(x,y, 'o', c='red', markersize=6, markerfacecolor='cyan', alpha= 0.9, linestyle = ':', linewidth = 2, label = 'Gaussian')\n",
    "plt.xlabel('x')\n",
    "plt.ylabel(r'$e^{-x^{2}}$')\n",
    "plt.legend()\n",
    "plt.grid()\n",
    "plt.savefig(\"class_example.pdf\")"
   ]
  },
  {
   "cell_type": "markdown",
   "id": "37bc28c7-d67e-4733-a7b6-fa67172049c0",
   "metadata": {},
   "source": [
    "An interesting resources for plotting in python:\n",
    "https://www.machinelearningplus.com/plots/top-50-matplotlib-visualizations-the-master-plots-python/\n",
    "\n",
    "Also you may fine seaborne library very interesting for quick dignostic plotting of data"
   ]
  }
 ],
 "metadata": {
  "kernelspec": {
   "display_name": "Python 3 (ipykernel)",
   "language": "python",
   "name": "python3"
  },
  "language_info": {
   "codemirror_mode": {
    "name": "ipython",
    "version": 3
   },
   "file_extension": ".py",
   "mimetype": "text/x-python",
   "name": "python",
   "nbconvert_exporter": "python",
   "pygments_lexer": "ipython3",
   "version": "3.12.7"
  }
 },
 "nbformat": 4,
 "nbformat_minor": 5
}
