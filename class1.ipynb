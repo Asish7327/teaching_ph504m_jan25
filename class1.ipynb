{
 "cells": [
  {
   "cell_type": "markdown",
   "id": "d0b7219e-df8f-42f3-9853-26c32dba32c7",
   "metadata": {},
   "source": [
    "A class notebook for practice -- please have a look at the notebook class2_7Jan25.ipynb\n",
    "P should be small"
   ]
  },
  {
   "cell_type": "code",
   "execution_count": 64,
   "id": "089f3007-bdda-49a3-a9b1-3165df65f4ff",
   "metadata": {},
   "outputs": [],
   "source": [
    "# p is small"
   ]
  },
  {
   "cell_type": "code",
   "execution_count": 2,
   "id": "a20cb12b-c6a3-46ef-976b-38488e657239",
   "metadata": {},
   "outputs": [
    {
     "ename": "NameError",
     "evalue": "name 'Print' is not defined",
     "output_type": "error",
     "traceback": [
      "\u001b[0;31m---------------------------------------------------------------------------\u001b[0m",
      "\u001b[0;31mNameError\u001b[0m                                 Traceback (most recent call last)",
      "Cell \u001b[0;32mIn[2], line 1\u001b[0m\n\u001b[0;32m----> 1\u001b[0m Print(\u001b[38;5;124m\"\u001b[39m\u001b[38;5;124mhello\u001b[39m\u001b[38;5;124m\"\u001b[39m)\n",
      "\u001b[0;31mNameError\u001b[0m: name 'Print' is not defined"
     ]
    }
   ],
   "source": [
    "Print(\"hello\")"
   ]
  },
  {
   "cell_type": "code",
   "execution_count": 3,
   "id": "bc54968a-f456-4b04-a38f-dc0f9b9b37ba",
   "metadata": {},
   "outputs": [
    {
     "name": "stdout",
     "output_type": "stream",
     "text": [
      "17\n"
     ]
    }
   ],
   "source": [
    "print(3*4-4 + 3*3)"
   ]
  },
  {
   "cell_type": "code",
   "execution_count": 4,
   "id": "e277846a-67d8-4301-9531-e35f9888a9cb",
   "metadata": {},
   "outputs": [
    {
     "data": {
      "text/plain": [
       "17"
      ]
     },
     "execution_count": 4,
     "metadata": {},
     "output_type": "execute_result"
    }
   ],
   "source": [
    "3*4-4+3*3"
   ]
  },
  {
   "cell_type": "code",
   "execution_count": 5,
   "id": "874331dc-a084-4a64-8e79-f6a6098d2584",
   "metadata": {},
   "outputs": [
    {
     "name": "stdout",
     "output_type": "stream",
     "text": [
      "3.0\n"
     ]
    }
   ],
   "source": [
    "print(9/3)"
   ]
  },
  {
   "cell_type": "code",
   "execution_count": 7,
   "id": "cf17f807-abe4-48b5-a4ac-5286d67895c7",
   "metadata": {},
   "outputs": [
    {
     "name": "stdout",
     "output_type": "stream",
     "text": [
      "12.0\n"
     ]
    }
   ],
   "source": [
    "print(3.0*4)"
   ]
  },
  {
   "cell_type": "code",
   "execution_count": 8,
   "id": "bbe81bd8-4b38-4cb8-83cf-af3f7ae7ed1f",
   "metadata": {},
   "outputs": [],
   "source": [
    "a=2.0"
   ]
  },
  {
   "cell_type": "code",
   "execution_count": 9,
   "id": "1c5815a9-3ee8-49cb-a489-af0878604ce8",
   "metadata": {},
   "outputs": [
    {
     "name": "stdout",
     "output_type": "stream",
     "text": [
      "2.0\n"
     ]
    }
   ],
   "source": [
    "print(a)"
   ]
  },
  {
   "cell_type": "code",
   "execution_count": 10,
   "id": "7a5e354a-ab07-4c10-abb2-0fa675fd87fb",
   "metadata": {},
   "outputs": [
    {
     "data": {
      "text/plain": [
       "2.0"
      ]
     },
     "execution_count": 10,
     "metadata": {},
     "output_type": "execute_result"
    }
   ],
   "source": [
    "a"
   ]
  },
  {
   "cell_type": "code",
   "execution_count": 11,
   "id": "676d1c01-3028-4970-9cbf-002d4b9ca2c6",
   "metadata": {},
   "outputs": [
    {
     "name": "stdout",
     "output_type": "stream",
     "text": [
      "<class 'float'>\n"
     ]
    }
   ],
   "source": [
    "print(type(a))"
   ]
  },
  {
   "cell_type": "code",
   "execution_count": 12,
   "id": "e1453ff9-b86f-4248-bf3b-4adc1ea0bc83",
   "metadata": {},
   "outputs": [],
   "source": [
    "b= 3"
   ]
  },
  {
   "cell_type": "code",
   "execution_count": 13,
   "id": "48dbf699-73d9-4756-a6d9-b324013422e9",
   "metadata": {},
   "outputs": [
    {
     "name": "stdout",
     "output_type": "stream",
     "text": [
      "<class 'int'>\n"
     ]
    }
   ],
   "source": [
    "print(type(b))"
   ]
  },
  {
   "cell_type": "code",
   "execution_count": 14,
   "id": "e2eef797-f320-4c0b-823a-385e83c9d664",
   "metadata": {},
   "outputs": [],
   "source": [
    "c= True"
   ]
  },
  {
   "cell_type": "code",
   "execution_count": 15,
   "id": "50db52dc-baf5-4f2d-a0d9-84346f8b5a29",
   "metadata": {},
   "outputs": [
    {
     "name": "stdout",
     "output_type": "stream",
     "text": [
      "<class 'bool'>\n"
     ]
    }
   ],
   "source": [
    "print(type(c))"
   ]
  },
  {
   "cell_type": "code",
   "execution_count": 16,
   "id": "b51a4a6a-de8c-4888-b8a5-00dd698f6d16",
   "metadata": {},
   "outputs": [
    {
     "data": {
      "text/plain": [
       "True"
      ]
     },
     "execution_count": 16,
     "metadata": {},
     "output_type": "execute_result"
    }
   ],
   "source": [
    "c"
   ]
  },
  {
   "cell_type": "code",
   "execution_count": 17,
   "id": "ac2341f5-faad-4f3d-9888-e9e7d630884f",
   "metadata": {},
   "outputs": [
    {
     "data": {
      "text/plain": [
       "2"
      ]
     },
     "execution_count": 17,
     "metadata": {},
     "output_type": "execute_result"
    }
   ],
   "source": [
    "c+c"
   ]
  },
  {
   "cell_type": "code",
   "execution_count": 18,
   "id": "269b8f0d-f40d-4783-b9af-e9dd93c9d217",
   "metadata": {},
   "outputs": [],
   "source": [
    "d=  False"
   ]
  },
  {
   "cell_type": "code",
   "execution_count": 19,
   "id": "c955b3b1-0140-4e91-b148-f990f0cd1587",
   "metadata": {},
   "outputs": [
    {
     "data": {
      "text/plain": [
       "False"
      ]
     },
     "execution_count": 19,
     "metadata": {},
     "output_type": "execute_result"
    }
   ],
   "source": [
    "d"
   ]
  },
  {
   "cell_type": "code",
   "execution_count": 20,
   "id": "90f31455-89bb-4411-ad82-bb11548320fa",
   "metadata": {},
   "outputs": [
    {
     "data": {
      "text/plain": [
       "bool"
      ]
     },
     "execution_count": 20,
     "metadata": {},
     "output_type": "execute_result"
    }
   ],
   "source": [
    "type(d)"
   ]
  },
  {
   "cell_type": "code",
   "execution_count": 21,
   "id": "d4c1d21c-cc64-4072-8e27-21128401ad34",
   "metadata": {},
   "outputs": [
    {
     "data": {
      "text/plain": [
       "0"
      ]
     },
     "execution_count": 21,
     "metadata": {},
     "output_type": "execute_result"
    }
   ],
   "source": [
    "d*2"
   ]
  },
  {
   "cell_type": "code",
   "execution_count": 22,
   "id": "96214ca2-ce4f-40c9-a860-8bdfff4f8fc4",
   "metadata": {},
   "outputs": [],
   "source": [
    "s = \"Hello\""
   ]
  },
  {
   "cell_type": "code",
   "execution_count": 23,
   "id": "534c88fa-1f8f-4c5f-be9a-acf3b732b414",
   "metadata": {},
   "outputs": [
    {
     "data": {
      "text/plain": [
       "str"
      ]
     },
     "execution_count": 23,
     "metadata": {},
     "output_type": "execute_result"
    }
   ],
   "source": [
    "type(s)"
   ]
  },
  {
   "cell_type": "code",
   "execution_count": 24,
   "id": "22a56829-ded9-4599-b7df-c0c855e1180c",
   "metadata": {},
   "outputs": [
    {
     "name": "stdout",
     "output_type": "stream",
     "text": [
      "<class 'str'>\n"
     ]
    }
   ],
   "source": [
    "print(type(s))"
   ]
  },
  {
   "cell_type": "code",
   "execution_count": 25,
   "id": "1c307a6b-ed83-4714-9464-fde5e57c3a5b",
   "metadata": {},
   "outputs": [
    {
     "data": {
      "text/plain": [
       "2.0"
      ]
     },
     "execution_count": 25,
     "metadata": {},
     "output_type": "execute_result"
    }
   ],
   "source": [
    "a"
   ]
  },
  {
   "cell_type": "code",
   "execution_count": 26,
   "id": "f2ceb5de-27b2-4fed-8ce0-997a140af2fe",
   "metadata": {},
   "outputs": [
    {
     "data": {
      "text/plain": [
       "3"
      ]
     },
     "execution_count": 26,
     "metadata": {},
     "output_type": "execute_result"
    }
   ],
   "source": [
    "b"
   ]
  },
  {
   "cell_type": "code",
   "execution_count": 27,
   "id": "74b55776-3b59-4a77-b7ab-8a557f1f95f1",
   "metadata": {},
   "outputs": [
    {
     "name": "stdout",
     "output_type": "stream",
     "text": [
      "ab\n"
     ]
    }
   ],
   "source": [
    "print('a' + 'b')"
   ]
  },
  {
   "cell_type": "code",
   "execution_count": 28,
   "id": "7501e189-a328-4eac-a4be-741707600707",
   "metadata": {},
   "outputs": [],
   "source": [
    "list_a = [2, 4.0, 5, 6, 'deepak', True, 'last']"
   ]
  },
  {
   "cell_type": "code",
   "execution_count": 29,
   "id": "47b65dc7-4c34-42b2-9841-a260fcc81606",
   "metadata": {},
   "outputs": [
    {
     "data": {
      "text/plain": [
       "list"
      ]
     },
     "execution_count": 29,
     "metadata": {},
     "output_type": "execute_result"
    }
   ],
   "source": [
    "type(list_a)"
   ]
  },
  {
   "cell_type": "code",
   "execution_count": 39,
   "id": "7acfaa6e-3ed0-4242-b89d-ecda2b06624c",
   "metadata": {},
   "outputs": [
    {
     "ename": "IndexError",
     "evalue": "list index out of range",
     "output_type": "error",
     "traceback": [
      "\u001b[0;31m---------------------------------------------------------------------------\u001b[0m",
      "\u001b[0;31mIndexError\u001b[0m                                Traceback (most recent call last)",
      "Cell \u001b[0;32mIn[39], line 1\u001b[0m\n\u001b[0;32m----> 1\u001b[0m \u001b[38;5;28mprint\u001b[39m(list_a[\u001b[38;5;241m-\u001b[39m\u001b[38;5;241m8\u001b[39m])\n",
      "\u001b[0;31mIndexError\u001b[0m: list index out of range"
     ]
    }
   ],
   "source": [
    "print(list_a[-8])"
   ]
  },
  {
   "cell_type": "code",
   "execution_count": 41,
   "id": "f2890293-3398-456e-97d1-5644e115a9c6",
   "metadata": {},
   "outputs": [
    {
     "data": {
      "text/plain": [
       "[2, 4.0, 5, 6, 'deepak', True, 'last']"
      ]
     },
     "execution_count": 41,
     "metadata": {},
     "output_type": "execute_result"
    }
   ],
   "source": [
    "list_a"
   ]
  },
  {
   "cell_type": "code",
   "execution_count": 53,
   "id": "1b7af88b-2913-44d7-beb2-557fa0d27b91",
   "metadata": {},
   "outputs": [
    {
     "name": "stdout",
     "output_type": "stream",
     "text": [
      "[2, 5, 'deepak', 'last']\n"
     ]
    }
   ],
   "source": [
    "print(list_a[: :2])"
   ]
  },
  {
   "cell_type": "code",
   "execution_count": 57,
   "id": "25c37f65-7808-43d7-bf0b-8f3afc26606d",
   "metadata": {},
   "outputs": [
    {
     "name": "stdout",
     "output_type": "stream",
     "text": [
      "['last', True, 'deepak', 6, 5, 4.0, 2]\n"
     ]
    }
   ],
   "source": [
    "print(list_a[::-1])"
   ]
  },
  {
   "cell_type": "code",
   "execution_count": 58,
   "id": "412b457d-fbd0-407c-b949-d68ec9152deb",
   "metadata": {},
   "outputs": [],
   "source": [
    "list_b = list_a"
   ]
  },
  {
   "cell_type": "code",
   "execution_count": 59,
   "id": "b0e5db38-df93-44a1-9fdf-645a975c8d10",
   "metadata": {},
   "outputs": [
    {
     "data": {
      "text/plain": [
       "[2, 4.0, 5, 6, 'deepak', True, 'last']"
      ]
     },
     "execution_count": 59,
     "metadata": {},
     "output_type": "execute_result"
    }
   ],
   "source": [
    "list_b"
   ]
  },
  {
   "cell_type": "code",
   "execution_count": 60,
   "id": "fbe0e601-27e2-4e4b-8f33-5bbaba04282e",
   "metadata": {},
   "outputs": [
    {
     "data": {
      "text/plain": [
       "[2, 4.0, 5, 6, 'deepak', True, 'last']"
      ]
     },
     "execution_count": 60,
     "metadata": {},
     "output_type": "execute_result"
    }
   ],
   "source": [
    "list_a"
   ]
  },
  {
   "cell_type": "code",
   "execution_count": 61,
   "id": "1145bab6-a97d-4141-a9ed-1a0244ec80ae",
   "metadata": {},
   "outputs": [],
   "source": [
    "list_a.append(3.141)"
   ]
  },
  {
   "cell_type": "code",
   "execution_count": 62,
   "id": "a20ce613-1732-4cd1-8a92-eb52a113f463",
   "metadata": {},
   "outputs": [
    {
     "data": {
      "text/plain": [
       "[2, 4.0, 5, 6, 'deepak', True, 'last', 3.141]"
      ]
     },
     "execution_count": 62,
     "metadata": {},
     "output_type": "execute_result"
    }
   ],
   "source": [
    "list_a"
   ]
  },
  {
   "cell_type": "code",
   "execution_count": 63,
   "id": "cdb4fa3f-0e20-48cb-b26b-7def2816f385",
   "metadata": {},
   "outputs": [
    {
     "data": {
      "text/plain": [
       "[2, 4.0, 5, 6, 'deepak', True, 'last', 3.141]"
      ]
     },
     "execution_count": 63,
     "metadata": {},
     "output_type": "execute_result"
    }
   ],
   "source": [
    "list_b"
   ]
  },
  {
   "cell_type": "code",
   "execution_count": 1,
   "id": "7b5524d8-292d-4361-9d06-e68ea43e654f",
   "metadata": {},
   "outputs": [],
   "source": [
    "list_a =[1, 2, 'name']\n",
    "lib_b = [2, 6.0, 'no']"
   ]
  },
  {
   "cell_type": "code",
   "execution_count": 2,
   "id": "8e15d832-d309-47bc-a103-8a72a3dfb174",
   "metadata": {},
   "outputs": [
    {
     "data": {
      "text/plain": [
       "[1, 2, 'name', 2, 6.0, 'no']"
      ]
     },
     "execution_count": 2,
     "metadata": {},
     "output_type": "execute_result"
    }
   ],
   "source": [
    "list_a + lib_b"
   ]
  },
  {
   "cell_type": "code",
   "execution_count": 3,
   "id": "9f3bb308-3e31-48d9-a87a-0511df064fd7",
   "metadata": {},
   "outputs": [
    {
     "data": {
      "text/plain": [
       "[1, 2, 'name', 1, 2, 'name']"
      ]
     },
     "execution_count": 3,
     "metadata": {},
     "output_type": "execute_result"
    }
   ],
   "source": [
    "list_a*2\n"
   ]
  },
  {
   "cell_type": "code",
   "execution_count": 4,
   "id": "4667b2d9-5e56-4098-9378-c00202a47cb0",
   "metadata": {},
   "outputs": [
    {
     "ename": "TypeError",
     "evalue": "unsupported operand type(s) for ** or pow(): 'list' and 'int'",
     "output_type": "error",
     "traceback": [
      "\u001b[0;31m---------------------------------------------------------------------------\u001b[0m",
      "\u001b[0;31mTypeError\u001b[0m                                 Traceback (most recent call last)",
      "Cell \u001b[0;32mIn[4], line 1\u001b[0m\n\u001b[0;32m----> 1\u001b[0m list_a\u001b[38;5;241m*\u001b[39m\u001b[38;5;241m*\u001b[39m\u001b[38;5;241m2\u001b[39m\n",
      "\u001b[0;31mTypeError\u001b[0m: unsupported operand type(s) for ** or pow(): 'list' and 'int'"
     ]
    }
   ],
   "source": [
    "list_a**2"
   ]
  },
  {
   "cell_type": "code",
   "execution_count": 5,
   "id": "457444a2-23c6-4448-a216-9ee05e851676",
   "metadata": {},
   "outputs": [],
   "source": [
    "list_a.remove(2)"
   ]
  },
  {
   "cell_type": "code",
   "execution_count": 6,
   "id": "4e6f13c7-e181-428a-8d4a-4f49b7e69313",
   "metadata": {},
   "outputs": [
    {
     "data": {
      "text/plain": [
       "[1, 'name']"
      ]
     },
     "execution_count": 6,
     "metadata": {},
     "output_type": "execute_result"
    }
   ],
   "source": [
    "list_a"
   ]
  },
  {
   "cell_type": "code",
   "execution_count": 8,
   "id": "3b6e2b07-544a-4e59-8e63-cb0e90f1938a",
   "metadata": {},
   "outputs": [],
   "source": [
    "list_b = [1, 2, 3, 4, 5, 'a', 'b']"
   ]
  },
  {
   "cell_type": "code",
   "execution_count": 9,
   "id": "37c6035c-ef2b-4005-b52c-748704225ba2",
   "metadata": {},
   "outputs": [
    {
     "data": {
      "text/plain": [
       "0"
      ]
     },
     "execution_count": 9,
     "metadata": {},
     "output_type": "execute_result"
    }
   ],
   "source": [
    "list_b.index(1)"
   ]
  },
  {
   "cell_type": "code",
   "execution_count": 10,
   "id": "0baa9b34-824f-4654-b56a-1ee6adaa6a7e",
   "metadata": {},
   "outputs": [
    {
     "ename": "TypeError",
     "evalue": "index expected at least 1 argument, got 0",
     "output_type": "error",
     "traceback": [
      "\u001b[0;31m---------------------------------------------------------------------------\u001b[0m",
      "\u001b[0;31mTypeError\u001b[0m                                 Traceback (most recent call last)",
      "Cell \u001b[0;32mIn[10], line 1\u001b[0m\n\u001b[0;32m----> 1\u001b[0m list_b\u001b[38;5;241m.\u001b[39mindex()\n",
      "\u001b[0;31mTypeError\u001b[0m: index expected at least 1 argument, got 0"
     ]
    }
   ],
   "source": [
    "list_b.index()"
   ]
  },
  {
   "cell_type": "code",
   "execution_count": 11,
   "id": "af8d0b90-2684-47df-87cb-aaf4eb037a6a",
   "metadata": {},
   "outputs": [
    {
     "ename": "ValueError",
     "evalue": "[1, 2, 3, 4, 5, 'a', 'b'] is not in list",
     "output_type": "error",
     "traceback": [
      "\u001b[0;31m---------------------------------------------------------------------------\u001b[0m",
      "\u001b[0;31mValueError\u001b[0m                                Traceback (most recent call last)",
      "Cell \u001b[0;32mIn[11], line 1\u001b[0m\n\u001b[0;32m----> 1\u001b[0m list_b\u001b[38;5;241m.\u001b[39mindex(list_b)\n",
      "\u001b[0;31mValueError\u001b[0m: [1, 2, 3, 4, 5, 'a', 'b'] is not in list"
     ]
    }
   ],
   "source": [
    "list_b.index(list_b)"
   ]
  },
  {
   "cell_type": "code",
   "execution_count": 13,
   "id": "30a2bb98-4b9f-4880-9142-fd0cde0b4d17",
   "metadata": {},
   "outputs": [
    {
     "data": {
      "text/plain": [
       "2"
      ]
     },
     "execution_count": 13,
     "metadata": {},
     "output_type": "execute_result"
    }
   ],
   "source": [
    "list_b.index(list_b[2])"
   ]
  },
  {
   "cell_type": "code",
   "execution_count": 14,
   "id": "674d1eb7-2508-4e96-999f-329a8ef84f1a",
   "metadata": {},
   "outputs": [
    {
     "data": {
      "text/plain": [
       "[1, 2, 3, 4, 5, 'a', 'b']"
      ]
     },
     "execution_count": 14,
     "metadata": {},
     "output_type": "execute_result"
    }
   ],
   "source": [
    "list_b"
   ]
  },
  {
   "cell_type": "code",
   "execution_count": 16,
   "id": "cb16333e-78dc-442f-9bfa-510879cfae79",
   "metadata": {},
   "outputs": [
    {
     "ename": "ValueError",
     "evalue": "[0, 1, 2, 3, 4, 5, 6] is not in list",
     "output_type": "error",
     "traceback": [
      "\u001b[0;31m---------------------------------------------------------------------------\u001b[0m",
      "\u001b[0;31mValueError\u001b[0m                                Traceback (most recent call last)",
      "Cell \u001b[0;32mIn[16], line 1\u001b[0m\n\u001b[0;32m----> 1\u001b[0m list_b\u001b[38;5;241m.\u001b[39mindex([i \u001b[38;5;28;01mfor\u001b[39;00m i, x \u001b[38;5;129;01min\u001b[39;00m \u001b[38;5;28menumerate\u001b[39m(list_b)])\n",
      "\u001b[0;31mValueError\u001b[0m: [0, 1, 2, 3, 4, 5, 6] is not in list"
     ]
    }
   ],
   "source": [
    "list_b.index([i for i, x in enumerate(list_b)])"
   ]
  },
  {
   "cell_type": "code",
   "execution_count": null,
   "id": "93832d06-2bf2-4bef-a901-2705bd25bf4b",
   "metadata": {},
   "outputs": [],
   "source": []
  }
 ],
 "metadata": {
  "kernelspec": {
   "display_name": "Python 3 (ipykernel)",
   "language": "python",
   "name": "python3"
  },
  "language_info": {
   "codemirror_mode": {
    "name": "ipython",
    "version": 3
   },
   "file_extension": ".py",
   "mimetype": "text/x-python",
   "name": "python",
   "nbconvert_exporter": "python",
   "pygments_lexer": "ipython3",
   "version": "3.12.7"
  }
 },
 "nbformat": 4,
 "nbformat_minor": 5
}
