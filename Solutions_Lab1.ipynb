{
 "cells": [
  {
   "cell_type": "markdown",
   "id": "0fc422b8-ceab-47b8-9a15-888a8cc6d711",
   "metadata": {},
   "source": [
    "# Lab 1 solutions (with proper comments)"
   ]
  },
  {
   "cell_type": "code",
   "execution_count": 1,
   "id": "52683de0-516c-4bef-9fa4-fb6d9dfbf891",
   "metadata": {},
   "outputs": [],
   "source": [
    "# define a custom function that will be used for all solutions below:\n",
    "def custom_sum(numbers):\n",
    "    \"\"\"\n",
    "    Calculate the sum of elements in a list.\n",
    "\n",
    "    Parameters:\n",
    "    numbers (list): A list of numeric values.\n",
    "\n",
    "    Returns:\n",
    "    float: The sum of all elements in the list.\n",
    "    \"\"\"\n",
    "    total = 0  # Initialize the total sum to 0\n",
    "    for num in numbers:  # Iterate through each number in the list\n",
    "        total += num  # Add the number to the total\n",
    "    return total  # Return the total sum"
   ]
  },
  {
   "cell_type": "code",
   "execution_count": 2,
   "id": "7d61cec0-8227-4668-a125-7e881d3cf8bd",
   "metadata": {},
   "outputs": [
    {
     "name": "stdout",
     "output_type": "stream",
     "text": [
      "Kinetic Energies: [9.0, 50.0, 147.0]\n"
     ]
    }
   ],
   "source": [
    "# Example 1: Kinetic Energy of Objects\n",
    "\n",
    "def calculate_ke(m, v):\n",
    "    \"\"\"\n",
    "    Calculate the kinetic energy of an object.\n",
    "\n",
    "    Parameters:\n",
    "    m (float): Mass of the object in kilograms.\n",
    "    v (float): Velocity of the object in meters per second.\n",
    "\n",
    "    Returns:\n",
    "    float: Kinetic energy in joules.\n",
    "    \"\"\"\n",
    "    return 0.5 * m * v**2\n",
    "\n",
    "# List of masses (kg) and velocities (m/s) of objects\n",
    "masses = [2, 4, 6]\n",
    "velocities = [3, 5, 7]\n",
    "\n",
    "# Initialize an empty list to store kinetic energy values\n",
    "kinetic_energies = []\n",
    "\n",
    "# Calculate the kinetic energy for each pair of mass and velocity\n",
    "for m, v in zip(masses, velocities):\n",
    "    kinetic_energies.append(calculate_ke(m, v))\n",
    "\n",
    "# Print the resulting list of kinetic energies\n",
    "print(\"Kinetic Energies:\", kinetic_energies)\n"
   ]
  },
  {
   "cell_type": "code",
   "execution_count": 3,
   "id": "f56dfdcf-b70b-4dad-bc87-daaf82a2b823",
   "metadata": {},
   "outputs": [
    {
     "name": "stdout",
     "output_type": "stream",
     "text": [
      "Warning: Distance must be greater than zero.\n",
      "Gravitational Forces: [1.3348e+21, 1.751925e+20, None]\n"
     ]
    }
   ],
   "source": [
    "# Example 2: Gravitational Force Between Two Objects\n",
    "\n",
    "def gravitational_force(m1, m2, r):\n",
    "    \"\"\"\n",
    "    Calculate the gravitational force between two objects.\n",
    "\n",
    "    Parameters:\n",
    "    m1 (float): Mass of the first object in kilograms.\n",
    "    m2 (float): Mass of the second object in kilograms.\n",
    "    r (float): Distance between the two objects in meters.\n",
    "\n",
    "    Returns:\n",
    "    float or None: Gravitational force in newtons, or None if the distance is invalid.\n",
    "    \"\"\"\n",
    "    G = 6.674e-11  # Gravitational constant in Nm^2/kg^2\n",
    "    if r <= 0:\n",
    "        print(\"Warning: Distance must be greater than zero.\")\n",
    "        return None\n",
    "    return G * (m1 * m2) / r**2\n",
    "\n",
    "# Lists of masses (kg) and distances (m) for multiple calculations\n",
    "m1_list = [5e24, 6e24, 8e24]\n",
    "m2_list = [4e22, 7e22, 1e23]\n",
    "r_list = [1e8, 4e8, 0]\n",
    "\n",
    "# Calculate gravitational forces and store them in a list\n",
    "forces = []\n",
    "for m1, m2, r in zip(m1_list, m2_list, r_list):\n",
    "    forces.append(gravitational_force(m1, m2, r))\n",
    "\n",
    "print(\"Gravitational Forces:\", forces)\n",
    "\n"
   ]
  },
  {
   "cell_type": "code",
   "execution_count": 4,
   "id": "a1f9ebff-7937-4364-8539-c4ac666b4f55",
   "metadata": {},
   "outputs": [
    {
     "name": "stdout",
     "output_type": "stream",
     "text": [
      "Velocities: [9.8, 19.6, 29.400000000000002, 39.2, 49.0]\n",
      "Average Velocity: 29.4\n"
     ]
    }
   ],
   "source": [
    "# Example 3: Average Velocity in Free Fall\n",
    "\n",
    "def velocity(t):\n",
    "    \"\"\"\n",
    "    Calculate the velocity of an object in free fall after time t.\n",
    "\n",
    "    Parameters:\n",
    "    t (float): Time in seconds.\n",
    "\n",
    "    Returns:\n",
    "    float: Velocity in m/s.\n",
    "    \"\"\"\n",
    "    g = 9.8  # Acceleration due to gravity in m/s^2\n",
    "    return g * t\n",
    "\n",
    "# List of time intervals (seconds)\n",
    "time_intervals = [1, 2, 3, 4, 5]\n",
    "\n",
    "# Calculate velocities for each time and store in a list\n",
    "velocities = [velocity(t) for t in time_intervals] \n",
    "\n",
    "# Another way to do this is to initialize the velocities array first then write a for loop as in the examples above (see lines below)\n",
    "#velocities = []\n",
    "#for t in time_intervals:\n",
    "#    velocities.append(velocity(t))\n",
    "\n",
    "# Calculate the average velocity\n",
    "average_velocity = custom_sum(velocities) / len(velocities)\n",
    "\n",
    "print(\"Velocities:\", velocities)\n",
    "print(\"Average Velocity:\", average_velocity)\n",
    "\n"
   ]
  },
  {
   "cell_type": "code",
   "execution_count": 5,
   "id": "ed442f87-40f2-4c37-a469-f9349d4e83c9",
   "metadata": {},
   "outputs": [
    {
     "name": "stdout",
     "output_type": "stream",
     "text": [
      "Classifications: ['Ultraviolet', 'Visible', 'Visible', 'Infrared', 'Ultraviolet']\n"
     ]
    }
   ],
   "source": [
    "# Example 4: Filtering Light Wavelengths\n",
    "\n",
    "def classify_wavelength(wavelength):\n",
    "    \"\"\"\n",
    "    Classify light based on its wavelength.\n",
    "\n",
    "    Parameters:\n",
    "    wavelength (float): Wavelength in nanometers.\n",
    "\n",
    "    Returns:\n",
    "    str: Type of light (\"Ultraviolet\", \"Visible\", or \"Infrared\").\n",
    "    \"\"\"\n",
    "    if wavelength < 380:\n",
    "        return \"Ultraviolet\"\n",
    "    elif 380 <= wavelength <= 750:\n",
    "        return \"Visible\"\n",
    "    else:\n",
    "        return \"Infrared\"\n",
    "\n",
    "# List of wavelengths in nanometers\n",
    "wavelengths = [300, 450, 700, 800, 250]\n",
    "\n",
    "# Classify each wavelength and store the results\n",
    "classifications = [classify_wavelength(w) for w in wavelengths]\n",
    "\n",
    "print(\"Classifications:\", classifications)\n",
    "\n"
   ]
  },
  {
   "cell_type": "code",
   "execution_count": 6,
   "id": "1748f9d9-c924-425c-bbcf-cf122d8a2c95",
   "metadata": {},
   "outputs": [
    {
     "name": "stdout",
     "output_type": "stream",
     "text": [
      "Celsius Temperatures: [-20, 0, 20, 37, 45, 50, 100]\n",
      "Fahrenheit Temperatures: [-4.0, 32.0, 68.0, 98.60000000000001, 113.0, 122.0, 212.0]\n"
     ]
    }
   ],
   "source": [
    "# Example 5: Temperature Conversion\n",
    "\n",
    "def c_to_f(celsius):\n",
    "    \"\"\"\n",
    "    Convert a temperature from Celsius to Fahrenheit.\n",
    "\n",
    "    Parameters:\n",
    "    celsius (float): Temperature in Celsius.\n",
    "\n",
    "    Returns:\n",
    "    float: Temperature in Fahrenheit.\n",
    "    \"\"\"\n",
    "    return (9/5) * celsius + 32\n",
    "\n",
    "# List of temperatures in Celsius\n",
    "temperatures_celsius = [-20, 0, 20, 37, 45, 50, 100]\n",
    "\n",
    "# Convert each temperature to Fahrenheit and store the results\n",
    "temperatures_fahrenheit = [c_to_f(c) for c in temperatures_celsius]\n",
    "\n",
    "print(\"Celsius Temperatures:\", temperatures_celsius)\n",
    "print(\"Fahrenheit Temperatures:\", temperatures_fahrenheit)\n",
    "\n"
   ]
  },
  {
   "cell_type": "code",
   "execution_count": 7,
   "id": "7b63af84-7fe4-405d-bc08-083833de7417",
   "metadata": {
    "scrolled": true
   },
   "outputs": [
    {
     "name": "stdout",
     "output_type": "stream",
     "text": [
      "Net Force: 5\n",
      "The system is not in equilibrium.\n"
     ]
    }
   ],
   "source": [
    "# Example 6: Sum of Forces in a System\n",
    "\n",
    "# List of forces (N) acting on a system\n",
    "forces = [10, -5, 15, -20, 5]\n",
    "\n",
    "# Calculate the net force\n",
    "net_force = custom_sum(forces)\n",
    "\n",
    "# Determine if the system is in equilibrium\n",
    "print(\"Net Force:\", net_force)\n",
    "if net_force == 0:\n",
    "    print(\"The system is in equilibrium.\")\n",
    "else:\n",
    "    print(\"The system is not in equilibrium.\")\n"
   ]
  },
  {
   "cell_type": "code",
   "execution_count": 8,
   "id": "7748e7f7-5921-4124-ad4a-454740c15c3b",
   "metadata": {},
   "outputs": [],
   "source": [
    "# Notes\n",
    "# you can use sum() function instead of the custom sum"
   ]
  }
 ],
 "metadata": {
  "kernelspec": {
   "display_name": "Python 3 (ipykernel)",
   "language": "python",
   "name": "python3"
  },
  "language_info": {
   "codemirror_mode": {
    "name": "ipython",
    "version": 3
   },
   "file_extension": ".py",
   "mimetype": "text/x-python",
   "name": "python",
   "nbconvert_exporter": "python",
   "pygments_lexer": "ipython3",
   "version": "3.12.7"
  }
 },
 "nbformat": 4,
 "nbformat_minor": 5
}
