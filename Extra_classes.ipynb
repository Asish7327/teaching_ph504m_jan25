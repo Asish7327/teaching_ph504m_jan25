{
 "cells": [
  {
   "cell_type": "markdown",
   "id": "e3e2997b-4a34-4cbf-b604-d44917d63f15",
   "metadata": {},
   "source": [
    "# basic problems for practice"
   ]
  },
  {
   "cell_type": "markdown",
   "id": "e101a162-6759-40ea-bde9-58a906e60150",
   "metadata": {},
   "source": [
    "* Date 22 Jan 2025"
   ]
  },
  {
   "cell_type": "markdown",
   "id": "c176dd41-a5ff-475e-8570-1d9d3b73f3f6",
   "metadata": {},
   "source": [
    "# Problem 0 (take home): Why can't you cross tortoise in the Zeno's paradox? "
   ]
  },
  {
   "cell_type": "markdown",
   "id": "8e05b581-b7de-4ea1-a5cf-91d685e0dae3",
   "metadata": {},
   "source": [
    "# Problem 1 : Print numbers from 1 to 100"
   ]
  },
  {
   "cell_type": "code",
   "execution_count": null,
   "id": "b6c620e2-2480-471e-b451-4719c4b0b797",
   "metadata": {},
   "outputs": [],
   "source": [
    "# solution 1\n",
    "for i in range(1, 101):\n",
    "    print(i)"
   ]
  },
  {
   "cell_type": "code",
   "execution_count": null,
   "id": "98a89589-7b31-4fb1-b607-b244ec0b53f1",
   "metadata": {},
   "outputs": [],
   "source": [
    "# solution 2:\n",
    "for i in range(100):\n",
    "    print(i+1)"
   ]
  },
  {
   "cell_type": "markdown",
   "id": "92daad27-2508-4746-86b2-4ce5855c949a",
   "metadata": {},
   "source": [
    "# Problem 2: Write a function to print a multiplication table for number n    "
   ]
  },
  {
   "cell_type": "code",
   "execution_count": null,
   "id": "4e771595-28ba-416d-824b-5fabaf670464",
   "metadata": {},
   "outputs": [],
   "source": [
    "# soltuion \n",
    "def multiplication_table(n):\n",
    "    for i in range(10):\n",
    "        print(n*(i+1))\n",
    "    return"
   ]
  },
  {
   "cell_type": "code",
   "execution_count": null,
   "id": "2c2caae6-2265-43c3-a182-4629bfbdaa5c",
   "metadata": {},
   "outputs": [],
   "source": [
    "# print multipliation table for n = 4\n",
    "multiplication_table(4)"
   ]
  },
  {
   "cell_type": "markdown",
   "id": "70e4804b-ecfe-4c29-bbb5-1406eec9542b",
   "metadata": {},
   "source": [
    "# Problem 3: Write a function to find a maximum element in a list"
   ]
  },
  {
   "cell_type": "code",
   "execution_count": null,
   "id": "f1ef34f9-72af-4d1c-8a17-27e1462bb2a2",
   "metadata": {},
   "outputs": [],
   "source": [
    "# Let's try just with a list of two numbers\n",
    "def max_out_of_two(l):\n",
    "    \"\"\"\n",
    "    l is a list with only two elements\n",
    "    \"\"\"\n",
    "    if l[0] >= l[1]:\n",
    "        print(l[0], 'is maximum')\n",
    "    else:\n",
    "        print(l[1], 'is maximum')\n",
    "\n",
    "    return"
   ]
  },
  {
   "cell_type": "code",
   "execution_count": null,
   "id": "4ff0042b-8b81-4f79-863d-8e71f989e194",
   "metadata": {},
   "outputs": [],
   "source": [
    "# try on [3,5]\n",
    "max_out_of_two(l = [3, 5])"
   ]
  },
  {
   "cell_type": "code",
   "execution_count": null,
   "id": "6532868f-f627-4e77-b3f6-0687bfdcc545",
   "metadata": {},
   "outputs": [],
   "source": [
    "# solution is not yet there --- only few students could solve this for a general list"
   ]
  },
  {
   "cell_type": "code",
   "execution_count": null,
   "id": "865c7444-dec0-40f3-908d-7d6483cefc0c",
   "metadata": {},
   "outputs": [],
   "source": []
  },
  {
   "cell_type": "markdown",
   "id": "373d1db4-2abb-419c-a660-00e31aef9f45",
   "metadata": {},
   "source": [
    "# Problem 4: Write a function to arrange a list in ascending or descending order based on its elements."
   ]
  },
  {
   "cell_type": "code",
   "execution_count": null,
   "id": "81a6dfe5-4c34-4009-85f2-0fbd8cc2b695",
   "metadata": {},
   "outputs": [],
   "source": []
  }
 ],
 "metadata": {
  "kernelspec": {
   "display_name": "Python 3 (ipykernel)",
   "language": "python",
   "name": "python3"
  },
  "language_info": {
   "codemirror_mode": {
    "name": "ipython",
    "version": 3
   },
   "file_extension": ".py",
   "mimetype": "text/x-python",
   "name": "python",
   "nbconvert_exporter": "python",
   "pygments_lexer": "ipython3",
   "version": "3.12.7"
  }
 },
 "nbformat": 4,
 "nbformat_minor": 5
}
