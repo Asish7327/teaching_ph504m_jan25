{
 "cells": [
  {
   "cell_type": "markdown",
   "id": "25eafdb4-fb2f-4a3d-8ead-a74d70e46fdd",
   "metadata": {},
   "source": [
    "# Python Basics\n",
    "Let's discuss why Python is OOP (Object-Oriented programming)\n",
    "\n",
    "What is an object?  \n",
    "What is a class?   \n",
    "What is a method?  \n",
    "What is a function? --> We need this for most of the course!"
   ]
  },
  {
   "cell_type": "markdown",
   "id": "299a7a42-3ea1-4e29-85bb-270b6909bdb6",
   "metadata": {},
   "source": [
    "# Functions\n",
    "Loosely speaking we have already used the following functions*:  \n",
    "print  \n",
    "type\n",
    "\n",
    "\n",
    "* These are not functions but classes. More on classes in future classes :)\n"
   ]
  },
  {
   "cell_type": "markdown",
   "id": "43f105ab-87bd-423c-b1b7-e252d5791f6a",
   "metadata": {},
   "source": [
    "* built-in functions"
   ]
  },
  {
   "cell_type": "code",
   "execution_count": null,
   "id": "2fde341b-4064-4a26-b29e-f9641a0f10a2",
   "metadata": {},
   "outputs": [],
   "source": [
    "print(type(print))"
   ]
  },
  {
   "cell_type": "code",
   "execution_count": null,
   "id": "94cfcf40-cb31-4351-9a24-e97d34745e59",
   "metadata": {},
   "outputs": [],
   "source": [
    "my_list= [2, 4, 10, 6, 8]"
   ]
  },
  {
   "cell_type": "code",
   "execution_count": null,
   "id": "1ab62d89-9313-479f-91f7-45fe59420859",
   "metadata": {},
   "outputs": [],
   "source": [
    "print(max(my_list))"
   ]
  },
  {
   "cell_type": "code",
   "execution_count": null,
   "id": "b526bf96-11a4-45d8-a8a1-8a5b32a304a3",
   "metadata": {},
   "outputs": [],
   "source": [
    "print(min(my_list))"
   ]
  },
  {
   "cell_type": "code",
   "execution_count": null,
   "id": "85d676e6-6c77-460c-9b83-736c83b65bb4",
   "metadata": {},
   "outputs": [],
   "source": [
    "max?"
   ]
  },
  {
   "cell_type": "code",
   "execution_count": null,
   "id": "072fe242-4afd-457d-b5c5-211e845d2d23",
   "metadata": {},
   "outputs": [],
   "source": [
    "help(max)"
   ]
  },
  {
   "cell_type": "code",
   "execution_count": null,
   "id": "8e71d309-2218-46c1-94ef-f82832bad42d",
   "metadata": {},
   "outputs": [],
   "source": [
    "help(min)"
   ]
  },
  {
   "cell_type": "code",
   "execution_count": null,
   "id": "64aa5cb1-2442-42d5-9c0c-711a5fe1841d",
   "metadata": {},
   "outputs": [],
   "source": [
    "min(3, 4, 2.1)"
   ]
  },
  {
   "cell_type": "markdown",
   "id": "9cca3c90-b30c-4f7a-acc2-02f2f09c7d55",
   "metadata": {},
   "source": [
    "* built-in methods"
   ]
  },
  {
   "cell_type": "code",
   "execution_count": null,
   "id": "c75b0839-4459-4921-938a-c9445f40143f",
   "metadata": {},
   "outputs": [],
   "source": [
    "dir(my_list)"
   ]
  },
  {
   "cell_type": "code",
   "execution_count": null,
   "id": "0d11b49a-2630-45f9-ae9f-9b013048d20b",
   "metadata": {},
   "outputs": [],
   "source": [
    "help(dir)"
   ]
  },
  {
   "cell_type": "code",
   "execution_count": null,
   "id": "6edb22d1-2858-4cac-861c-bbd191d2dfe8",
   "metadata": {},
   "outputs": [],
   "source": [
    "help(my_list.insert)"
   ]
  },
  {
   "cell_type": "code",
   "execution_count": null,
   "id": "e7776a56-41ef-49cf-82d5-c470e5133123",
   "metadata": {},
   "outputs": [],
   "source": [
    "my_list"
   ]
  },
  {
   "cell_type": "code",
   "execution_count": null,
   "id": "b47632be-67d1-4bb7-829f-05d49f0cbd47",
   "metadata": {},
   "outputs": [],
   "source": [
    "my_list.insert(1, 3)"
   ]
  },
  {
   "cell_type": "code",
   "execution_count": null,
   "id": "ac03f084-37e9-4525-a8e3-65519eb187dc",
   "metadata": {},
   "outputs": [],
   "source": [
    "print(my_list)"
   ]
  },
  {
   "cell_type": "code",
   "execution_count": null,
   "id": "20d3cecd-df70-4037-9da9-c61ed3772a58",
   "metadata": {},
   "outputs": [],
   "source": [
    "help(my_list.append)"
   ]
  },
  {
   "cell_type": "markdown",
   "id": "f98f1a9d-e6f1-4cea-b62c-52c6f59afd2e",
   "metadata": {},
   "source": [
    "* Let's write custom functions!"
   ]
  },
  {
   "cell_type": "code",
   "execution_count": null,
   "id": "a3d9fd71-d866-4cc4-a961-73af6b58134a",
   "metadata": {},
   "outputs": [],
   "source": [
    "def square_it(x):\n",
    "    y = x**2\n",
    "    return y"
   ]
  },
  {
   "cell_type": "code",
   "execution_count": null,
   "id": "dc37e928-5a16-46bb-827b-1e7f9ede68e4",
   "metadata": {},
   "outputs": [],
   "source": [
    "result = square_it(x=2)\n",
    "print(result)"
   ]
  },
  {
   "cell_type": "code",
   "execution_count": null,
   "id": "391fa9e2-1b91-489a-a1de-d1aa51415bf5",
   "metadata": {},
   "outputs": [],
   "source": [
    "result = square_it(x=3)\n",
    "print('y =', result)"
   ]
  },
  {
   "cell_type": "code",
   "execution_count": null,
   "id": "4d4a169e-dafe-4527-b6f5-aa4de50037a4",
   "metadata": {},
   "outputs": [],
   "source": [
    "result = square_it(4)\n",
    "print('y =', result)"
   ]
  },
  {
   "cell_type": "code",
   "execution_count": null,
   "id": "d020c9f2-e540-4f07-8105-2e46b2128ea9",
   "metadata": {},
   "outputs": [],
   "source": [
    "a= 5\n",
    "result = square_it(x=a)\n",
    "print('y =', result)"
   ]
  },
  {
   "cell_type": "code",
   "execution_count": null,
   "id": "731125b7-4836-4ff2-bee8-892d0ba803cd",
   "metadata": {},
   "outputs": [],
   "source": [
    "x= 6.0\n",
    "result = square_it(x=x)\n",
    "print('y =', result)"
   ]
  },
  {
   "cell_type": "markdown",
   "id": "57f2ab8f-e8a5-47cf-b7b0-eda8427ad151",
   "metadata": {},
   "source": [
    "--- Note on execution of the function"
   ]
  },
  {
   "cell_type": "code",
   "execution_count": null,
   "id": "4c0ac6b2-a558-429c-88f8-1a1a699828b0",
   "metadata": {},
   "outputs": [],
   "source": [
    "def two_times_square_it(x):\n",
    "    y = 2*x**2\n",
    "    return y"
   ]
  },
  {
   "cell_type": "code",
   "execution_count": null,
   "id": "4f685b23-df08-4477-8428-2ccce3d83975",
   "metadata": {},
   "outputs": [],
   "source": [
    "a= 5\n",
    "result = two_times_square_it(x=a)\n",
    "print('y =', result)"
   ]
  },
  {
   "cell_type": "markdown",
   "id": "0a176a28-8e2c-4c5a-a0c5-1c32507b471d",
   "metadata": {},
   "source": [
    "--- function with two variables"
   ]
  },
  {
   "cell_type": "code",
   "execution_count": null,
   "id": "6c4dcf67-4805-418a-8d9c-69320792ebf9",
   "metadata": {},
   "outputs": [],
   "source": [
    "def add_two_numbers(a, b):\n",
    "    c = a+b\n",
    "    return c"
   ]
  },
  {
   "cell_type": "code",
   "execution_count": null,
   "id": "67d0efc1-c1b9-45e7-8cff-cc76a0e33f7f",
   "metadata": {},
   "outputs": [],
   "source": [
    "result = add_two_numbers(2,3)\n",
    "print(result)"
   ]
  },
  {
   "cell_type": "code",
   "execution_count": null,
   "id": "70abb0e3-3c91-4440-acb8-878d25a27961",
   "metadata": {},
   "outputs": [],
   "source": [
    "x = 2\n",
    "y = 3.0\n",
    "addition = add_two_numbers (a= x, b= y)\n",
    "print(addition)"
   ]
  },
  {
   "cell_type": "code",
   "execution_count": null,
   "id": "ceabdb40-9fea-4c14-a9c8-d66682759fd5",
   "metadata": {},
   "outputs": [],
   "source": [
    "def subtract_two_numbers(a, b):\n",
    "    # gives back a - b\n",
    "    c = a-b\n",
    "    return c"
   ]
  },
  {
   "cell_type": "code",
   "execution_count": null,
   "id": "3bdf393d-a241-40e1-877a-9e18b8fc8107",
   "metadata": {},
   "outputs": [],
   "source": [
    "x = 2\n",
    "y = 3\n",
    "res = subtract_two_numbers (x, y)\n",
    "# order not mentioned -- so it keeps the default one\n",
    "print(res)"
   ]
  },
  {
   "cell_type": "code",
   "execution_count": null,
   "id": "6c2cffe3-91fe-4624-aa5e-d2cc86ecb834",
   "metadata": {},
   "outputs": [],
   "source": [
    "x = 2\n",
    "y = 3\n",
    "res = subtract_two_numbers (b= x, a=y)\n",
    "# changing order\n",
    "print(res)"
   ]
  },
  {
   "cell_type": "code",
   "execution_count": null,
   "id": "dcf21428-554e-4470-b893-84dc7e100c25",
   "metadata": {},
   "outputs": [],
   "source": [
    "help(subtract_two_numbers)"
   ]
  },
  {
   "cell_type": "code",
   "execution_count": null,
   "id": "b71f978f-b6cc-473e-b553-ed532bd360b9",
   "metadata": {},
   "outputs": [],
   "source": [
    "subtract_two_numbers?"
   ]
  },
  {
   "cell_type": "code",
   "execution_count": null,
   "id": "03c5db69-33d6-4ee7-be82-d4e8ce1ebf49",
   "metadata": {},
   "outputs": [],
   "source": [
    "def subtract_two_numbers(a, b):\n",
    "    \"\"\"\n",
    "    returns a - b\n",
    "    \"\"\"\n",
    "    c = a-b\n",
    "    return c"
   ]
  },
  {
   "cell_type": "code",
   "execution_count": null,
   "id": "0584939c-abbd-4b0c-abe3-2e4fecf7d81e",
   "metadata": {},
   "outputs": [],
   "source": [
    "subtract_two_numbers?"
   ]
  },
  {
   "cell_type": "markdown",
   "id": "d4cda884-3883-4f27-8379-6ea28236ee22",
   "metadata": {},
   "source": [
    "# if and for loops"
   ]
  },
  {
   "cell_type": "code",
   "execution_count": null,
   "id": "6f544c07-7ca3-4754-a236-41de9229daee",
   "metadata": {},
   "outputs": [],
   "source": [
    "a=20\n",
    "b=30\n",
    "if a > b:\n",
    "    print('right')\n",
    "else:\n",
    "    print('wrong')"
   ]
  },
  {
   "cell_type": "code",
   "execution_count": null,
   "id": "84629502-dde0-4e7e-aa52-851f6e171459",
   "metadata": {},
   "outputs": [],
   "source": [
    "a=40\n",
    "b=20\n",
    "if a > b:\n",
    "    print('a>b')\n",
    "elif a < b:\n",
    "    print('a < b')\n",
    "else:\n",
    "    print('a=b')"
   ]
  },
  {
   "cell_type": "code",
   "execution_count": null,
   "id": "666428c1-c949-493f-8e69-8e56ff441ce4",
   "metadata": {},
   "outputs": [],
   "source": [
    "my_list"
   ]
  },
  {
   "cell_type": "code",
   "execution_count": null,
   "id": "1b453f1e-2267-4dc2-8626-47db1b084d16",
   "metadata": {},
   "outputs": [],
   "source": [
    "len(my_list)"
   ]
  },
  {
   "cell_type": "code",
   "execution_count": null,
   "id": "eb428334-a31c-4979-b969-09c5f95567c7",
   "metadata": {},
   "outputs": [],
   "source": [
    "for i in range(6):\n",
    "    print(i)"
   ]
  },
  {
   "cell_type": "code",
   "execution_count": null,
   "id": "3b97c0d3-1434-4791-bd57-aaa90a8dde30",
   "metadata": {},
   "outputs": [],
   "source": [
    "help(range)"
   ]
  },
  {
   "cell_type": "code",
   "execution_count": null,
   "id": "1025d049-33a5-4a41-991b-8cac09350415",
   "metadata": {},
   "outputs": [],
   "source": [
    "for l in my_list:\n",
    "    print(l)"
   ]
  },
  {
   "cell_type": "code",
   "execution_count": null,
   "id": "b7dc6581-0260-4143-b625-88d2fa2e4fff",
   "metadata": {},
   "outputs": [],
   "source": [
    "for l, m in zip(my_list, my_list):\n",
    "    print(l, m+1)"
   ]
  },
  {
   "cell_type": "code",
   "execution_count": null,
   "id": "01467a99-f524-450a-9b30-24172601ec3c",
   "metadata": {},
   "outputs": [],
   "source": []
  }
 ],
 "metadata": {
  "kernelspec": {
   "display_name": "Python 3 (ipykernel)",
   "language": "python",
   "name": "python3"
  },
  "language_info": {
   "codemirror_mode": {
    "name": "ipython",
    "version": 3
   },
   "file_extension": ".py",
   "mimetype": "text/x-python",
   "name": "python",
   "nbconvert_exporter": "python",
   "pygments_lexer": "ipython3",
   "version": "3.12.7"
  }
 },
 "nbformat": 4,
 "nbformat_minor": 5
}
