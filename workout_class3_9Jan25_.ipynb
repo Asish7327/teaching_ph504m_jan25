{
 "cells": [
  {
   "cell_type": "markdown",
   "id": "25eafdb4-fb2f-4a3d-8ead-a74d70e46fdd",
   "metadata": {},
   "source": [
    "# Python Basics\n",
    "Let's discuss why Python is OOP (Object-Oriented programming)\n",
    "\n",
    "What is an object?  \n",
    "What is a class?   \n",
    "What is a method?  \n",
    "What is a function? --> We need this for most of the course!"
   ]
  },
  {
   "cell_type": "markdown",
   "id": "299a7a42-3ea1-4e29-85bb-270b6909bdb6",
   "metadata": {},
   "source": [
    "# Functions\n",
    "Loosely speaking we have already used the following functions*:  \n",
    "print  \n",
    "type\n",
    "\n",
    "\n",
    "* These are not functions but classes. More on classes in future classes :)\n"
   ]
  },
  {
   "cell_type": "markdown",
   "id": "43f105ab-87bd-423c-b1b7-e252d5791f6a",
   "metadata": {},
   "source": [
    "* built-in functions"
   ]
  },
  {
   "cell_type": "code",
   "execution_count": 1,
   "id": "2fde341b-4064-4a26-b29e-f9641a0f10a2",
   "metadata": {},
   "outputs": [
    {
     "name": "stdout",
     "output_type": "stream",
     "text": [
      "<class 'builtin_function_or_method'>\n"
     ]
    }
   ],
   "source": [
    "print(type(print))"
   ]
  },
  {
   "cell_type": "code",
   "execution_count": 2,
   "id": "94cfcf40-cb31-4351-9a24-e97d34745e59",
   "metadata": {},
   "outputs": [],
   "source": [
    "my_list= [2, 4, 10, 6, 8]"
   ]
  },
  {
   "cell_type": "code",
   "execution_count": 3,
   "id": "1ab62d89-9313-479f-91f7-45fe59420859",
   "metadata": {},
   "outputs": [
    {
     "name": "stdout",
     "output_type": "stream",
     "text": [
      "10\n"
     ]
    }
   ],
   "source": [
    "print(max(my_list))"
   ]
  },
  {
   "cell_type": "code",
   "execution_count": 4,
   "id": "b526bf96-11a4-45d8-a8a1-8a5b32a304a3",
   "metadata": {},
   "outputs": [
    {
     "name": "stdout",
     "output_type": "stream",
     "text": [
      "2\n"
     ]
    }
   ],
   "source": [
    "print(min(my_list))"
   ]
  },
  {
   "cell_type": "code",
   "execution_count": 5,
   "id": "85d676e6-6c77-460c-9b83-736c83b65bb4",
   "metadata": {},
   "outputs": [
    {
     "data": {
      "text/plain": [
       "\u001b[0;31mDocstring:\u001b[0m\n",
       "max(iterable, *[, default=obj, key=func]) -> value\n",
       "max(arg1, arg2, *args, *[, key=func]) -> value\n",
       "\n",
       "With a single iterable argument, return its biggest item. The\n",
       "default keyword-only argument specifies an object to return if\n",
       "the provided iterable is empty.\n",
       "With two or more arguments, return the largest argument.\n",
       "\u001b[0;31mType:\u001b[0m      builtin_function_or_method"
      ]
     },
     "metadata": {},
     "output_type": "display_data"
    }
   ],
   "source": [
    "max?"
   ]
  },
  {
   "cell_type": "code",
   "execution_count": 6,
   "id": "072fe242-4afd-457d-b5c5-211e845d2d23",
   "metadata": {},
   "outputs": [
    {
     "name": "stdout",
     "output_type": "stream",
     "text": [
      "Help on built-in function max in module builtins:\n",
      "\n",
      "max(...)\n",
      "    max(iterable, *[, default=obj, key=func]) -> value\n",
      "    max(arg1, arg2, *args, *[, key=func]) -> value\n",
      "\n",
      "    With a single iterable argument, return its biggest item. The\n",
      "    default keyword-only argument specifies an object to return if\n",
      "    the provided iterable is empty.\n",
      "    With two or more arguments, return the largest argument.\n",
      "\n"
     ]
    }
   ],
   "source": [
    "help(max)"
   ]
  },
  {
   "cell_type": "code",
   "execution_count": 7,
   "id": "8e71d309-2218-46c1-94ef-f82832bad42d",
   "metadata": {},
   "outputs": [
    {
     "name": "stdout",
     "output_type": "stream",
     "text": [
      "Help on built-in function min in module builtins:\n",
      "\n",
      "min(...)\n",
      "    min(iterable, *[, default=obj, key=func]) -> value\n",
      "    min(arg1, arg2, *args, *[, key=func]) -> value\n",
      "\n",
      "    With a single iterable argument, return its smallest item. The\n",
      "    default keyword-only argument specifies an object to return if\n",
      "    the provided iterable is empty.\n",
      "    With two or more arguments, return the smallest argument.\n",
      "\n"
     ]
    }
   ],
   "source": [
    "help(min)"
   ]
  },
  {
   "cell_type": "code",
   "execution_count": 8,
   "id": "64aa5cb1-2442-42d5-9c0c-711a5fe1841d",
   "metadata": {},
   "outputs": [
    {
     "data": {
      "text/plain": [
       "2.1"
      ]
     },
     "execution_count": 8,
     "metadata": {},
     "output_type": "execute_result"
    }
   ],
   "source": [
    "min(3, 4, 2.1)"
   ]
  },
  {
   "cell_type": "markdown",
   "id": "9cca3c90-b30c-4f7a-acc2-02f2f09c7d55",
   "metadata": {},
   "source": [
    "* built-in methods"
   ]
  },
  {
   "cell_type": "code",
   "execution_count": 9,
   "id": "c75b0839-4459-4921-938a-c9445f40143f",
   "metadata": {},
   "outputs": [
    {
     "data": {
      "text/plain": [
       "['__add__',\n",
       " '__class__',\n",
       " '__class_getitem__',\n",
       " '__contains__',\n",
       " '__delattr__',\n",
       " '__delitem__',\n",
       " '__dir__',\n",
       " '__doc__',\n",
       " '__eq__',\n",
       " '__format__',\n",
       " '__ge__',\n",
       " '__getattribute__',\n",
       " '__getitem__',\n",
       " '__getstate__',\n",
       " '__gt__',\n",
       " '__hash__',\n",
       " '__iadd__',\n",
       " '__imul__',\n",
       " '__init__',\n",
       " '__init_subclass__',\n",
       " '__iter__',\n",
       " '__le__',\n",
       " '__len__',\n",
       " '__lt__',\n",
       " '__mul__',\n",
       " '__ne__',\n",
       " '__new__',\n",
       " '__reduce__',\n",
       " '__reduce_ex__',\n",
       " '__repr__',\n",
       " '__reversed__',\n",
       " '__rmul__',\n",
       " '__setattr__',\n",
       " '__setitem__',\n",
       " '__sizeof__',\n",
       " '__str__',\n",
       " '__subclasshook__',\n",
       " 'append',\n",
       " 'clear',\n",
       " 'copy',\n",
       " 'count',\n",
       " 'extend',\n",
       " 'index',\n",
       " 'insert',\n",
       " 'pop',\n",
       " 'remove',\n",
       " 'reverse',\n",
       " 'sort']"
      ]
     },
     "execution_count": 9,
     "metadata": {},
     "output_type": "execute_result"
    }
   ],
   "source": [
    "dir(my_list)"
   ]
  },
  {
   "cell_type": "code",
   "execution_count": 10,
   "id": "0d11b49a-2630-45f9-ae9f-9b013048d20b",
   "metadata": {},
   "outputs": [
    {
     "name": "stdout",
     "output_type": "stream",
     "text": [
      "Help on built-in function dir in module builtins:\n",
      "\n",
      "dir(...)\n",
      "    Show attributes of an object.\n",
      "\n",
      "    If called without an argument, return the names in the current scope.\n",
      "    Else, return an alphabetized list of names comprising (some of) the attributes\n",
      "    of the given object, and of attributes reachable from it.\n",
      "    If the object supplies a method named __dir__, it will be used; otherwise\n",
      "    the default dir() logic is used and returns:\n",
      "      for a module object: the module's attributes.\n",
      "      for a class object:  its attributes, and recursively the attributes\n",
      "        of its bases.\n",
      "      for any other object: its attributes, its class's attributes, and\n",
      "        recursively the attributes of its class's base classes.\n",
      "\n"
     ]
    }
   ],
   "source": [
    "help(dir)"
   ]
  },
  {
   "cell_type": "code",
   "execution_count": 11,
   "id": "6edb22d1-2858-4cac-861c-bbd191d2dfe8",
   "metadata": {},
   "outputs": [
    {
     "name": "stdout",
     "output_type": "stream",
     "text": [
      "Help on built-in function insert:\n",
      "\n",
      "insert(index, object, /) method of builtins.list instance\n",
      "    Insert object before index.\n",
      "\n"
     ]
    }
   ],
   "source": [
    "help(my_list.insert)"
   ]
  },
  {
   "cell_type": "code",
   "execution_count": 12,
   "id": "e7776a56-41ef-49cf-82d5-c470e5133123",
   "metadata": {},
   "outputs": [
    {
     "data": {
      "text/plain": [
       "[2, 4, 10, 6, 8]"
      ]
     },
     "execution_count": 12,
     "metadata": {},
     "output_type": "execute_result"
    }
   ],
   "source": [
    "my_list"
   ]
  },
  {
   "cell_type": "code",
   "execution_count": 13,
   "id": "b47632be-67d1-4bb7-829f-05d49f0cbd47",
   "metadata": {},
   "outputs": [],
   "source": [
    "my_list.insert(1, 3)"
   ]
  },
  {
   "cell_type": "code",
   "execution_count": 14,
   "id": "ac03f084-37e9-4525-a8e3-65519eb187dc",
   "metadata": {},
   "outputs": [
    {
     "name": "stdout",
     "output_type": "stream",
     "text": [
      "[2, 3, 4, 10, 6, 8]\n"
     ]
    }
   ],
   "source": [
    "print(my_list)"
   ]
  },
  {
   "cell_type": "code",
   "execution_count": 15,
   "id": "20d3cecd-df70-4037-9da9-c61ed3772a58",
   "metadata": {},
   "outputs": [
    {
     "name": "stdout",
     "output_type": "stream",
     "text": [
      "Help on built-in function append:\n",
      "\n",
      "append(object, /) method of builtins.list instance\n",
      "    Append object to the end of the list.\n",
      "\n"
     ]
    }
   ],
   "source": [
    "help(my_list.append)"
   ]
  },
  {
   "cell_type": "markdown",
   "id": "f98f1a9d-e6f1-4cea-b62c-52c6f59afd2e",
   "metadata": {},
   "source": [
    "* Let's write custom functions!"
   ]
  },
  {
   "cell_type": "code",
   "execution_count": 16,
   "id": "a3d9fd71-d866-4cc4-a961-73af6b58134a",
   "metadata": {},
   "outputs": [],
   "source": [
    "def square_it(x):\n",
    "    y = x**2\n",
    "    return y"
   ]
  },
  {
   "cell_type": "code",
   "execution_count": 17,
   "id": "dc37e928-5a16-46bb-827b-1e7f9ede68e4",
   "metadata": {},
   "outputs": [
    {
     "name": "stdout",
     "output_type": "stream",
     "text": [
      "4\n"
     ]
    }
   ],
   "source": [
    "result = square_it(x=2)\n",
    "print(result)"
   ]
  },
  {
   "cell_type": "code",
   "execution_count": 18,
   "id": "391fa9e2-1b91-489a-a1de-d1aa51415bf5",
   "metadata": {},
   "outputs": [
    {
     "name": "stdout",
     "output_type": "stream",
     "text": [
      "y = 9\n"
     ]
    }
   ],
   "source": [
    "result = square_it(x=3)\n",
    "print('y =', result)"
   ]
  },
  {
   "cell_type": "code",
   "execution_count": 19,
   "id": "4d4a169e-dafe-4527-b6f5-aa4de50037a4",
   "metadata": {},
   "outputs": [
    {
     "name": "stdout",
     "output_type": "stream",
     "text": [
      "y = 16\n"
     ]
    }
   ],
   "source": [
    "result = square_it(4)\n",
    "print('y =', result)"
   ]
  },
  {
   "cell_type": "code",
   "execution_count": 20,
   "id": "d020c9f2-e540-4f07-8105-2e46b2128ea9",
   "metadata": {},
   "outputs": [
    {
     "name": "stdout",
     "output_type": "stream",
     "text": [
      "y = 25\n"
     ]
    }
   ],
   "source": [
    "a= 5\n",
    "result = square_it(x=a)\n",
    "print('y =', result)"
   ]
  },
  {
   "cell_type": "code",
   "execution_count": 21,
   "id": "731125b7-4836-4ff2-bee8-892d0ba803cd",
   "metadata": {},
   "outputs": [
    {
     "name": "stdout",
     "output_type": "stream",
     "text": [
      "y = 36.0\n"
     ]
    }
   ],
   "source": [
    "x= 6.0\n",
    "result = square_it(x=x)\n",
    "print('y =', result)"
   ]
  },
  {
   "cell_type": "markdown",
   "id": "57f2ab8f-e8a5-47cf-b7b0-eda8427ad151",
   "metadata": {},
   "source": [
    "--- Note on the execution of the function  \n",
    "choose the name properly  \n",
    "if you have the same name and a different function like the one below then Python will remember the last executed function only  "
   ]
  },
  {
   "cell_type": "code",
   "execution_count": 22,
   "id": "4c0ac6b2-a558-429c-88f8-1a1a699828b0",
   "metadata": {},
   "outputs": [],
   "source": [
    "def two_times_square_it(x): # try with square_it name and it will create issues depending on when you execute it\n",
    "    y = 2*x**2\n",
    "    return y"
   ]
  },
  {
   "cell_type": "code",
   "execution_count": 23,
   "id": "4f685b23-df08-4477-8428-2ccce3d83975",
   "metadata": {},
   "outputs": [
    {
     "name": "stdout",
     "output_type": "stream",
     "text": [
      "y = 50\n"
     ]
    }
   ],
   "source": [
    "a= 5\n",
    "result = two_times_square_it(x=a)\n",
    "print('y =', result)"
   ]
  },
  {
   "cell_type": "markdown",
   "id": "0a176a28-8e2c-4c5a-a0c5-1c32507b471d",
   "metadata": {},
   "source": [
    "--- function with two variables"
   ]
  },
  {
   "cell_type": "code",
   "execution_count": 24,
   "id": "6c4dcf67-4805-418a-8d9c-69320792ebf9",
   "metadata": {},
   "outputs": [],
   "source": [
    "def add_two_numbers(a, b):\n",
    "    c = a+b\n",
    "    return c"
   ]
  },
  {
   "cell_type": "code",
   "execution_count": 25,
   "id": "67d0efc1-c1b9-45e7-8cff-cc76a0e33f7f",
   "metadata": {},
   "outputs": [
    {
     "name": "stdout",
     "output_type": "stream",
     "text": [
      "5\n"
     ]
    }
   ],
   "source": [
    "result = add_two_numbers(2,3)\n",
    "print(result)"
   ]
  },
  {
   "cell_type": "code",
   "execution_count": 26,
   "id": "70abb0e3-3c91-4440-acb8-878d25a27961",
   "metadata": {},
   "outputs": [
    {
     "name": "stdout",
     "output_type": "stream",
     "text": [
      "5.0\n"
     ]
    }
   ],
   "source": [
    "x = 2\n",
    "y = 3.0\n",
    "addition = add_two_numbers (a= x, b= y)\n",
    "print(addition)"
   ]
  },
  {
   "cell_type": "code",
   "execution_count": 27,
   "id": "ceabdb40-9fea-4c14-a9c8-d66682759fd5",
   "metadata": {},
   "outputs": [],
   "source": [
    "def subtract_two_numbers(a, b):\n",
    "    # gives back a - b\n",
    "    c = a-b\n",
    "    return c"
   ]
  },
  {
   "cell_type": "code",
   "execution_count": 28,
   "id": "3bdf393d-a241-40e1-877a-9e18b8fc8107",
   "metadata": {},
   "outputs": [
    {
     "name": "stdout",
     "output_type": "stream",
     "text": [
      "-1\n"
     ]
    }
   ],
   "source": [
    "x = 2\n",
    "y = 3\n",
    "res = subtract_two_numbers (x, y)\n",
    "# order not mentioned -- so it keeps the default one\n",
    "print(res)"
   ]
  },
  {
   "cell_type": "code",
   "execution_count": 42,
   "id": "6c2cffe3-91fe-4624-aa5e-d2cc86ecb834",
   "metadata": {},
   "outputs": [
    {
     "name": "stdout",
     "output_type": "stream",
     "text": [
      "1\n"
     ]
    }
   ],
   "source": [
    "x = 2\n",
    "y = 3\n",
    "res = subtract_two_numbers (b= x, a=y)\n",
    "# changing order - it will assign in the correct way\n",
    "print(res)"
   ]
  },
  {
   "cell_type": "code",
   "execution_count": 30,
   "id": "dcf21428-554e-4470-b893-84dc7e100c25",
   "metadata": {},
   "outputs": [
    {
     "name": "stdout",
     "output_type": "stream",
     "text": [
      "Help on function subtract_two_numbers in module __main__:\n",
      "\n",
      "subtract_two_numbers(a, b)\n",
      "\n"
     ]
    }
   ],
   "source": [
    "help(subtract_two_numbers)"
   ]
  },
  {
   "cell_type": "code",
   "execution_count": 31,
   "id": "b71f978f-b6cc-473e-b553-ed532bd360b9",
   "metadata": {},
   "outputs": [
    {
     "data": {
      "text/plain": [
       "\u001b[0;31mSignature:\u001b[0m \u001b[0msubtract_two_numbers\u001b[0m\u001b[0;34m(\u001b[0m\u001b[0ma\u001b[0m\u001b[0;34m,\u001b[0m \u001b[0mb\u001b[0m\u001b[0;34m)\u001b[0m\u001b[0;34m\u001b[0m\u001b[0;34m\u001b[0m\u001b[0m\n",
       "\u001b[0;31mDocstring:\u001b[0m <no docstring>\n",
       "\u001b[0;31mFile:\u001b[0m      /tmp/ipykernel_65247/3944327417.py\n",
       "\u001b[0;31mType:\u001b[0m      function"
      ]
     },
     "metadata": {},
     "output_type": "display_data"
    }
   ],
   "source": [
    "subtract_two_numbers?"
   ]
  },
  {
   "cell_type": "code",
   "execution_count": 32,
   "id": "03c5db69-33d6-4ee7-be82-d4e8ce1ebf49",
   "metadata": {},
   "outputs": [],
   "source": [
    "def subtract_two_numbers(a, b):\n",
    "    \"\"\"\n",
    "    returns a - b\n",
    "    \"\"\"\n",
    "    c = a-b\n",
    "    return c"
   ]
  },
  {
   "cell_type": "code",
   "execution_count": 33,
   "id": "0584939c-abbd-4b0c-abe3-2e4fecf7d81e",
   "metadata": {},
   "outputs": [
    {
     "data": {
      "text/plain": [
       "\u001b[0;31mSignature:\u001b[0m \u001b[0msubtract_two_numbers\u001b[0m\u001b[0;34m(\u001b[0m\u001b[0ma\u001b[0m\u001b[0;34m,\u001b[0m \u001b[0mb\u001b[0m\u001b[0;34m)\u001b[0m\u001b[0;34m\u001b[0m\u001b[0;34m\u001b[0m\u001b[0m\n",
       "\u001b[0;31mDocstring:\u001b[0m returns a - b\n",
       "\u001b[0;31mFile:\u001b[0m      /tmp/ipykernel_65247/3444094702.py\n",
       "\u001b[0;31mType:\u001b[0m      function"
      ]
     },
     "metadata": {},
     "output_type": "display_data"
    }
   ],
   "source": [
    "subtract_two_numbers?"
   ]
  },
  {
   "cell_type": "markdown",
   "id": "21c8a4a7-94eb-4aa5-94fd-a39e17d1826f",
   "metadata": {},
   "source": [
    "* notes on comments\n",
    "  \n",
    "  you can write comment starting with # e.g # this code subtracts two numbers\n",
    "\n",
    "  or you can write comments in between lines with \"\"\" and \"\"\" e.g\n",
    "\n",
    "  \"\"\"\n",
    "\n",
    "  hello\n",
    "\n",
    "  \"\"\"\n",
    "\n",
    "  The last way is recognised as 'docstring' in the function "
   ]
  },
  {
   "cell_type": "markdown",
   "id": "d4cda884-3883-4f27-8379-6ea28236ee22",
   "metadata": {},
   "source": [
    "# if and for loops"
   ]
  },
  {
   "cell_type": "code",
   "execution_count": 43,
   "id": "c5ccfafb-0fdf-45f4-85aa-1c8523e8d8a3",
   "metadata": {},
   "outputs": [
    {
     "name": "stdout",
     "output_type": "stream",
     "text": [
      "a and b are different\n"
     ]
    }
   ],
   "source": [
    "# just one if loop\n",
    "a = 20\n",
    "b = 30\n",
    "if a is not b:\n",
    "    print('a and b are different')"
   ]
  },
  {
   "cell_type": "code",
   "execution_count": 34,
   "id": "6f544c07-7ca3-4754-a236-41de9229daee",
   "metadata": {},
   "outputs": [
    {
     "name": "stdout",
     "output_type": "stream",
     "text": [
      "wrong\n"
     ]
    }
   ],
   "source": [
    "# if and else loop\n",
    "a=20\n",
    "b=30\n",
    "if a > b:\n",
    "    print('right')\n",
    "else:\n",
    "    print('wrong')"
   ]
  },
  {
   "cell_type": "code",
   "execution_count": 35,
   "id": "84629502-dde0-4e7e-aa52-851f6e171459",
   "metadata": {},
   "outputs": [
    {
     "name": "stdout",
     "output_type": "stream",
     "text": [
      "a>b\n"
     ]
    }
   ],
   "source": [
    "# more if\n",
    "a=40\n",
    "b=20\n",
    "if a > b:\n",
    "    print('a > b')\n",
    "elif a < b:\n",
    "    print('a < b')\n",
    "else:\n",
    "    print('a=b')"
   ]
  },
  {
   "cell_type": "code",
   "execution_count": 49,
   "id": "864f15c7-01c9-4a82-8ad9-f408ca281106",
   "metadata": {},
   "outputs": [
    {
     "name": "stdout",
     "output_type": "stream",
     "text": [
      "a = b\n"
     ]
    }
   ],
   "source": [
    "# you can also have nested loops\n",
    "a=10\n",
    "b=10\n",
    "if a > b:\n",
    "    \n",
    "    if a-b == 1:\n",
    "        print('a is b+1')\n",
    "    else:\n",
    "        print ('a > b but a is not b+1')\n",
    "\n",
    "elif a<b:\n",
    "    print('a less than or equal to b')\n",
    "else:\n",
    "    print('a = b')"
   ]
  },
  {
   "cell_type": "markdown",
   "id": "bfad8cc4-d29a-463f-a956-200b8895e4fd",
   "metadata": {},
   "source": [
    "* try for loop "
   ]
  },
  {
   "cell_type": "code",
   "execution_count": 53,
   "id": "172bde38-d9c3-4f60-9a82-e75dd04519c8",
   "metadata": {},
   "outputs": [
    {
     "name": "stdout",
     "output_type": "stream",
     "text": [
      "0\n",
      "1\n",
      "2\n",
      "3\n",
      "4\n",
      "5\n"
     ]
    }
   ],
   "source": [
    "# simple for loop and example of range\n",
    "for i in range(6):\n",
    "    print(i)"
   ]
  },
  {
   "cell_type": "code",
   "execution_count": 54,
   "id": "1bf766a2-c15b-46fb-81b5-02b47d34843d",
   "metadata": {},
   "outputs": [
    {
     "name": "stdout",
     "output_type": "stream",
     "text": [
      "Help on class range in module builtins:\n",
      "\n",
      "class range(object)\n",
      " |  range(stop) -> range object\n",
      " |  range(start, stop[, step]) -> range object\n",
      " |\n",
      " |  Return an object that produces a sequence of integers from start (inclusive)\n",
      " |  to stop (exclusive) by step.  range(i, j) produces i, i+1, i+2, ..., j-1.\n",
      " |  start defaults to 0, and stop is omitted!  range(4) produces 0, 1, 2, 3.\n",
      " |  These are exactly the valid indices for a list of 4 elements.\n",
      " |  When step is given, it specifies the increment (or decrement).\n",
      " |\n",
      " |  Methods defined here:\n",
      " |\n",
      " |  __bool__(self, /)\n",
      " |      True if self else False\n",
      " |\n",
      " |  __contains__(self, key, /)\n",
      " |      Return bool(key in self).\n",
      " |\n",
      " |  __eq__(self, value, /)\n",
      " |      Return self==value.\n",
      " |\n",
      " |  __ge__(self, value, /)\n",
      " |      Return self>=value.\n",
      " |\n",
      " |  __getattribute__(self, name, /)\n",
      " |      Return getattr(self, name).\n",
      " |\n",
      " |  __getitem__(self, key, /)\n",
      " |      Return self[key].\n",
      " |\n",
      " |  __gt__(self, value, /)\n",
      " |      Return self>value.\n",
      " |\n",
      " |  __hash__(self, /)\n",
      " |      Return hash(self).\n",
      " |\n",
      " |  __iter__(self, /)\n",
      " |      Implement iter(self).\n",
      " |\n",
      " |  __le__(self, value, /)\n",
      " |      Return self<=value.\n",
      " |\n",
      " |  __len__(self, /)\n",
      " |      Return len(self).\n",
      " |\n",
      " |  __lt__(self, value, /)\n",
      " |      Return self<value.\n",
      " |\n",
      " |  __ne__(self, value, /)\n",
      " |      Return self!=value.\n",
      " |\n",
      " |  __reduce__(...)\n",
      " |      Helper for pickle.\n",
      " |\n",
      " |  __repr__(self, /)\n",
      " |      Return repr(self).\n",
      " |\n",
      " |  __reversed__(...)\n",
      " |      Return a reverse iterator.\n",
      " |\n",
      " |  count(...)\n",
      " |      rangeobject.count(value) -> integer -- return number of occurrences of value\n",
      " |\n",
      " |  index(...)\n",
      " |      rangeobject.index(value) -> integer -- return index of value.\n",
      " |      Raise ValueError if the value is not present.\n",
      " |\n",
      " |  ----------------------------------------------------------------------\n",
      " |  Static methods defined here:\n",
      " |\n",
      " |  __new__(*args, **kwargs)\n",
      " |      Create and return a new object.  See help(type) for accurate signature.\n",
      " |\n",
      " |  ----------------------------------------------------------------------\n",
      " |  Data descriptors defined here:\n",
      " |\n",
      " |  start\n",
      " |\n",
      " |  step\n",
      " |\n",
      " |  stop\n",
      "\n"
     ]
    }
   ],
   "source": [
    "help(range)"
   ]
  },
  {
   "cell_type": "code",
   "execution_count": 55,
   "id": "666428c1-c949-493f-8e69-8e56ff441ce4",
   "metadata": {},
   "outputs": [
    {
     "name": "stdout",
     "output_type": "stream",
     "text": [
      "[2, 3, 4, 10, 6, 8]\n"
     ]
    }
   ],
   "source": [
    "# let's use a list in the for loop\n",
    "# want to recall my_list\n",
    "print(my_list)"
   ]
  },
  {
   "cell_type": "code",
   "execution_count": 56,
   "id": "1b453f1e-2267-4dc2-8626-47db1b084d16",
   "metadata": {},
   "outputs": [
    {
     "data": {
      "text/plain": [
       "6"
      ]
     },
     "execution_count": 56,
     "metadata": {},
     "output_type": "execute_result"
    }
   ],
   "source": [
    "# what is the size or length of the list -- use function len\n",
    "len(my_list)"
   ]
  },
  {
   "cell_type": "code",
   "execution_count": 57,
   "id": "1025d049-33a5-4a41-991b-8cac09350415",
   "metadata": {},
   "outputs": [
    {
     "name": "stdout",
     "output_type": "stream",
     "text": [
      "2\n",
      "3\n",
      "4\n",
      "10\n",
      "6\n",
      "8\n"
     ]
    }
   ],
   "source": [
    "for l in my_list:\n",
    "    print(l)"
   ]
  },
  {
   "cell_type": "code",
   "execution_count": 59,
   "id": "fa4aed0c-526c-4ab4-abaa-4768a5183013",
   "metadata": {},
   "outputs": [],
   "source": [
    "# let's use two lists with the same length\n",
    "my_list_new = [0.2, 0.3, 0.4, 1, 0.6, 0.8]"
   ]
  },
  {
   "cell_type": "code",
   "execution_count": 62,
   "id": "b7dc6581-0260-4143-b625-88d2fa2e4fff",
   "metadata": {},
   "outputs": [
    {
     "name": "stdout",
     "output_type": "stream",
     "text": [
      "element in my_list 2 element in my_list_new 0.2 adding those: 2.2\n",
      "element in my_list 3 element in my_list_new 0.3 adding those: 3.3\n",
      "element in my_list 4 element in my_list_new 0.4 adding those: 4.4\n",
      "element in my_list 10 element in my_list_new 1 adding those: 11\n",
      "element in my_list 6 element in my_list_new 0.6 adding those: 6.6\n",
      "element in my_list 8 element in my_list_new 0.8 adding those: 8.8\n"
     ]
    }
   ],
   "source": [
    "# for loop to add these two lists by element-wise \n",
    "for l, m in zip(my_list, my_list_new):\n",
    "    # see how I am using the zip function\n",
    "    print('element in my_list', l, 'element in my_list_new', m, 'adding those:', l+m)"
   ]
  },
  {
   "cell_type": "markdown",
   "id": "e1eb7571-677b-440e-b922-5ea490f7d8fc",
   "metadata": {},
   "source": [
    "* you can write these if loops and for loops as functions -- try following examples\n",
    "\n",
    "  There will be similar examples in the lab session tomorrow"
   ]
  },
  {
   "cell_type": "markdown",
   "id": "964a99e9-a19f-49d7-bfa1-dc4f6c1cfd89",
   "metadata": {},
   "source": [
    "# exercise 1:\n",
    "More stuff will be here soon\n"
   ]
  },
  {
   "cell_type": "code",
   "execution_count": null,
   "id": "7cdaa8a9-cba7-4cb2-a001-d46d4182a6d9",
   "metadata": {},
   "outputs": [],
   "source": []
  }
 ],
 "metadata": {
  "kernelspec": {
   "display_name": "Python 3 (ipykernel)",
   "language": "python",
   "name": "python3"
  },
  "language_info": {
   "codemirror_mode": {
    "name": "ipython",
    "version": 3
   },
   "file_extension": ".py",
   "mimetype": "text/x-python",
   "name": "python",
   "nbconvert_exporter": "python",
   "pygments_lexer": "ipython3",
   "version": "3.12.7"
  }
 },
 "nbformat": 4,
 "nbformat_minor": 5
}
