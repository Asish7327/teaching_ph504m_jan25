{
 "cells": [
  {
   "cell_type": "markdown",
   "id": "36898cfc-0862-43e7-add4-cd548bdd5691",
   "metadata": {},
   "source": [
    "## Matrix Algebra - Gaussian Elimination Method\n",
    "\n",
    "Date 27 Feb 25 \\\n",
    "Class 15\n",
    "\n",
    "(Note Class 14; theory of Gaussian elimination method to solve a system of equation)\n"
   ]
  },
  {
   "cell_type": "markdown",
   "id": "328c4f5e-96ab-414f-98c5-2a0fb267824b",
   "metadata": {},
   "source": [
    "#### The function for Gaussian elimination method"
   ]
  },
  {
   "cell_type": "code",
   "execution_count": 1,
   "id": "d50f2260-5842-4a9c-abcd-8815939a8ac4",
   "metadata": {},
   "outputs": [],
   "source": [
    "import numpy as np\n",
    "\n",
    "def gauss_elimination(A, b):\n",
    "    \"\"\"\n",
    "    Solves the system of linear equations Ax = b using Gauss elimination.\n",
    "    A is n*n matrix\n",
    "    \"\"\"\n",
    "    n = np.shape(A)[0]\n",
    "    # Augmented matrix [A|b]\n",
    "    Ab = np.hstack((A, b))\n",
    "\n",
    "    # Forward elimination\n",
    "    for i in range(n):\n",
    "        for j in range(i+1, n):\n",
    "            k = Ab[j, i] / Ab[i, i]\n",
    "            Ab[j, :] = Ab[j,:] - k * Ab[i, :]\n",
    "\n",
    "    print(\"Final augmented matrix:\\n\", Ab)\n",
    "    # Back-substitution\n",
    "    x = np.zeros(n)\n",
    "    for i in range(n-1, -1, -1):\n",
    "        x[i] = (Ab[i, -1] - np.sum(Ab[i, i+1:n] * x[i+1:n])) / Ab[i, i]\n",
    "\n",
    "    return x\n",
    "\n"
   ]
  },
  {
   "cell_type": "code",
   "execution_count": 2,
   "id": "2d158473-add1-49c3-a8f0-e58d863a97eb",
   "metadata": {},
   "outputs": [
    {
     "name": "stdout",
     "output_type": "stream",
     "text": [
      "Final augmented matrix:\n",
      " [[  2.    1.   -1.    1.    9. ]\n",
      " [  0.    0.5   0.5   2.5   3.5]\n",
      " [  0.    0.   -1.   -8.   -7. ]\n",
      " [  0.    0.    0.  -77.  -77. ]]\n",
      "Solution: [ 2.  3. -1.  1.]\n"
     ]
    }
   ],
   "source": [
    "# Example system:\n",
    "A = np.array([[2, 1, -1, 1], \n",
    "              [-3, -1, 2, 1], \n",
    "              [-2, 1, 2, 1],\n",
    "              [5, 2, 6, -5 ]], dtype=float)\n",
    "b = np.array([[9], [-10], [-2], [5]], dtype=float)\n",
    "\n",
    "solution = gauss_elimination(A, b)\n",
    "print(\"Solution:\", solution)"
   ]
  },
  {
   "cell_type": "code",
   "execution_count": 3,
   "id": "ed63fe31-0800-4a34-bbca-9b3ec2cca269",
   "metadata": {},
   "outputs": [
    {
     "name": "stdout",
     "output_type": "stream",
     "text": [
      "Final augmented matrix:\n",
      " [[  2.    1.   -1.    1.    9. ]\n",
      " [  0.    0.5   0.5   2.5   3.5]\n",
      " [  0.    0.   -1.   -8.   -7. ]\n",
      " [  0.    0.    0.  -77.  -77. ]]\n",
      "Solution: [ 2.  3. -1.  1.]\n"
     ]
    }
   ],
   "source": [
    "# Example system:\n",
    "A = np.array([[2, 1, -1, 1], \n",
    "              [-3, -1, 2, 1], \n",
    "              [-2, 1, 2, 1],\n",
    "              [5, 2, 6, -5 ]], dtype=float)\n",
    "b = np.array([9, -10, -2, 5], dtype=float)\n",
    "b = b.reshape(len(b), 1)\n",
    "\n",
    "solution = gauss_elimination(A, b)\n",
    "print(\"Solution:\", solution)"
   ]
  },
  {
   "cell_type": "code",
   "execution_count": 4,
   "id": "af17609e-72db-4db7-ac92-300987a549be",
   "metadata": {},
   "outputs": [],
   "source": [
    "# What if the first coefficient of first equation is zero?"
   ]
  },
  {
   "cell_type": "code",
   "execution_count": null,
   "id": "28dc5ce3-df7b-4076-8fbf-fd2cf8927bb9",
   "metadata": {},
   "outputs": [],
   "source": []
  }
 ],
 "metadata": {
  "kernelspec": {
   "display_name": "Python 3 (ipykernel)",
   "language": "python",
   "name": "python3"
  },
  "language_info": {
   "codemirror_mode": {
    "name": "ipython",
    "version": 3
   },
   "file_extension": ".py",
   "mimetype": "text/x-python",
   "name": "python",
   "nbconvert_exporter": "python",
   "pygments_lexer": "ipython3",
   "version": "3.12.7"
  }
 },
 "nbformat": 4,
 "nbformat_minor": 5
}
