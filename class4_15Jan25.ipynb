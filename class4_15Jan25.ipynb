{
 "cells": [
  {
   "cell_type": "markdown",
   "id": "977a7c70-0a5a-4fb3-904d-2149f78490f5",
   "metadata": {},
   "source": [
    "# A note about learning\n",
    "\n",
    "आचार्यात् पादमादत्ते  \n",
    "पादं शिष्यः स्वमेधया ।  \n",
    "पादं सब्रह्मचारिभ्यः  \n",
    "पादं कालक्रमेण च ॥\n",
    "\n",
    "Literal meaning:  \n",
    "\n",
    "A quarter of the knowledge is learned from the teacher,  \n",
    "a quarter from the student's own intelligence,  \n",
    "a quarter from fellow students,  \n",
    "and a quarter with the passage of time.\n",
    "\n",
    "With ChatGPt:\n",
    "\n",
    "A quarter gained from the teacher's lore,  \n",
    "A quarter from thinking and seeking more.  \n",
    "A quarter from peers, as wisdom’s share,  \n",
    "And time completes the journey there.\n"
   ]
  },
  {
   "cell_type": "markdown",
   "id": "693ea10f-6973-4328-905e-5405f4def134",
   "metadata": {},
   "source": [
    "# How to debug codes"
   ]
  },
  {
   "cell_type": "code",
   "execution_count": null,
   "id": "bc31b717-a473-4fe7-9024-07832995a16d",
   "metadata": {},
   "outputs": [],
   "source": [
    "def addition(your_list):\n",
    "    length = len(your_list)\n",
    "    for i in range(length):\n",
    "        y = 0\n",
    "        y = y + your_list[i]\n",
    "        return y"
   ]
  },
  {
   "cell_type": "code",
   "execution_count": null,
   "id": "258e8fb5-e43a-4af0-b53c-f66efb405c59",
   "metadata": {},
   "outputs": [],
   "source": [
    "# create a list from 1 to 100\n",
    "num_list = list(range(1,101))\n",
    "print(num_list)"
   ]
  },
  {
   "cell_type": "code",
   "execution_count": null,
   "id": "3007132d-6abc-4b88-be14-6eccbfd83fb5",
   "metadata": {},
   "outputs": [],
   "source": [
    "result = addition(your_list= num_list)\n",
    "print(result)"
   ]
  },
  {
   "cell_type": "code",
   "execution_count": null,
   "id": "d3c75dd1-3a03-4534-82d7-ac393c962a07",
   "metadata": {},
   "outputs": [],
   "source": [
    "# lets modify the function addition to add print statement in between the loop\n",
    "def addition(your_list):\n",
    "    length = len(your_list)\n",
    "    print('total length of the array =', length)\n",
    "    for i in range(length):\n",
    "        y = 0\n",
    "        y = y + your_list[i]\n",
    "        print('iteration:', i, 'value:', your_list[i], 'sum:', y) \n",
    "        return y"
   ]
  },
  {
   "cell_type": "code",
   "execution_count": null,
   "id": "e6af94df-2374-4da9-a3c1-8863357845d8",
   "metadata": {},
   "outputs": [],
   "source": [
    "result = addition(your_list= num_list)\n",
    "print('Ans:', result)"
   ]
  },
  {
   "cell_type": "code",
   "execution_count": null,
   "id": "47c09d40-ccee-4178-997b-121a9c78e7dd",
   "metadata": {},
   "outputs": [],
   "source": [
    "\"\"\"\n",
    "Although the array has 100 elements it executes only the first iteration.\n",
    "-- Look closely and you will see the return is inside the for loop and that is why the code \n",
    "stops after the first iteration as soon as it reaches the line return y\n",
    "\"\"\"\n"
   ]
  },
  {
   "cell_type": "code",
   "execution_count": null,
   "id": "bae0c492-6255-452a-aafe-c0024b51205a",
   "metadata": {},
   "outputs": [],
   "source": [
    "# now modify the code to have return y at the correct place\n",
    "def addition(your_list):    \n",
    "    length = len(your_list)\n",
    "    print('total length of the array =', length)\n",
    "    for i in range(length):\n",
    "        y = 0\n",
    "        y = y + your_list[i]\n",
    "        print('iteration:', i, 'value:', your_list[i], 'sum:', y) \n",
    "    return y"
   ]
  },
  {
   "cell_type": "code",
   "execution_count": null,
   "id": "8e1fa6c9-45cc-498a-860f-80f102138a0d",
   "metadata": {},
   "outputs": [],
   "source": [
    "result = addition(your_list= num_list)\n",
    "print('Answer is:', result)"
   ]
  },
  {
   "cell_type": "code",
   "execution_count": null,
   "id": "2b9ad8d3-c0b4-4456-b975-996473ace431",
   "metadata": {},
   "outputs": [],
   "source": [
    "# wrong answer -- everytime the sum is just the value of the element \n",
    "# this is becasue eveytime y = 0 + value -- that y shuold be outside the for loop"
   ]
  },
  {
   "cell_type": "code",
   "execution_count": null,
   "id": "3af53a9c-8a9a-4a6d-8f86-df6f572a1a41",
   "metadata": {},
   "outputs": [],
   "source": [
    "# Now modify the code to have y = 0 at the correct place\n",
    "def addition(your_list):\n",
    "    length = len(your_list)\n",
    "    print('total length of the array =', length)\n",
    "    y=0 # initilize the y value\n",
    "    for i in range(length):\n",
    "        y = y + your_list[i]\n",
    "        print('iteration:', i, 'value:', your_list[i], 'sum:', y) \n",
    "    return y"
   ]
  },
  {
   "cell_type": "code",
   "execution_count": null,
   "id": "6b385d9f-edcf-4600-add2-481bb799d9ac",
   "metadata": {},
   "outputs": [],
   "source": [
    "result = addition(your_list= num_list)\n",
    "print('Answer is:', result)"
   ]
  },
  {
   "cell_type": "code",
   "execution_count": null,
   "id": "24ceab24-4169-45d2-b69d-2c5651338d39",
   "metadata": {},
   "outputs": [],
   "source": [
    "# very good! now it works but still the code is clumsy \n",
    "# let's write it properly"
   ]
  },
  {
   "cell_type": "code",
   "execution_count": null,
   "id": "649f39b3-2ab6-4256-bbbb-5a5d64b30575",
   "metadata": {},
   "outputs": [],
   "source": [
    "# this is how a proper function is written \n",
    "def addition(your_list):\n",
    "    \"\"\"\n",
    "    Calculate the sum of elements in a list.\n",
    "\n",
    "    Parameters:\n",
    "    your_list (list): A list of numeric values.\n",
    "\n",
    "    Returns:\n",
    "    float: The sum of all elements in the list.\n",
    "    \"\"\"\n",
    "    \n",
    "    length = len(your_list) # find the size of the list\n",
    "    \n",
    "    y=0 # initilize the y value\n",
    "    for i in range(length):\n",
    "        y = y + your_list[i]\n",
    "    \n",
    "    return y"
   ]
  },
  {
   "cell_type": "code",
   "execution_count": null,
   "id": "09cf7364-4248-4b9f-904d-077d08b16e22",
   "metadata": {},
   "outputs": [],
   "source": [
    "def custom_sum(numbers):\n",
    "    \"\"\"\n",
    "    Calculate the sum of elements in a list.\n",
    "\n",
    "    Parameters:\n",
    "    numbers (list): A list of numeric values.\n",
    "\n",
    "    Returns:\n",
    "    float: The sum of all elements in the list.\n",
    "    \"\"\"\n",
    "    total = 0  # Initialize the total sum to 0\n",
    "    for num in numbers:  # Iterate through each number in the list\n",
    "        total += num  # Add the number to the total\n",
    "    return total  # Return the total sum"
   ]
  },
  {
   "cell_type": "code",
   "execution_count": null,
   "id": "eeef69a9-b86e-4d44-b00d-275fbe8a0686",
   "metadata": {},
   "outputs": [],
   "source": [
    "print(addition(num_list))\n",
    "print(custom_sum(num_list))"
   ]
  },
  {
   "cell_type": "markdown",
   "id": "a3a14bfb-fed3-4c31-8860-f94b0b8c6b20",
   "metadata": {},
   "source": [
    "# Importing code libraries \n",
    "\n",
    "* numpy - Numerical Python\n",
    "* scipy - Scientific Python  (not allowed to use in the class unless you want to test your codes)\n",
    "* matplotlib - plotting"
   ]
  },
  {
   "cell_type": "code",
   "execution_count": null,
   "id": "3e5f2693-c864-4635-b738-42049d60bbf0",
   "metadata": {},
   "outputs": [],
   "source": [
    "import numpy as np\n",
    "my_list = [1, 2, 3, 4, 5] # create a list\n",
    "arr = np.array(my_list) # create a numpy array"
   ]
  },
  {
   "cell_type": "code",
   "execution_count": null,
   "id": "878b2d2f-8972-4d67-807a-f6508aa0057e",
   "metadata": {},
   "outputs": [],
   "source": [
    "print(type(my_list))\n",
    "print(type(arr))"
   ]
  },
  {
   "cell_type": "markdown",
   "id": "b88b2ad3-5496-4cfd-a10e-e333472fcd00",
   "metadata": {},
   "source": [
    "* differences in the list and numpy array"
   ]
  },
  {
   "cell_type": "code",
   "execution_count": null,
   "id": "49828e3c-613e-4cee-885c-c34292181824",
   "metadata": {},
   "outputs": [],
   "source": [
    "# multiplication by a constant\n",
    "print(my_list*3) # concatenate the same list to the original i.e 2 times the same list repeated\n",
    "print(arr*3)"
   ]
  },
  {
   "cell_type": "code",
   "execution_count": null,
   "id": "930f6ef5-7542-41d2-982e-d69d803dbf3a",
   "metadata": {},
   "outputs": [],
   "source": [
    "# add a constant\n",
    "print(my_list+20) # does not work"
   ]
  },
  {
   "cell_type": "code",
   "execution_count": null,
   "id": "ad5b391f-3e0b-410d-be30-7395ccc925b3",
   "metadata": {},
   "outputs": [],
   "source": [
    "# error says it's trying to concatenate but we gave an integer and not a list\n",
    "# let's give it as a list\n",
    "print(my_list+[20])"
   ]
  },
  {
   "cell_type": "code",
   "execution_count": null,
   "id": "aba8658b-2667-4c17-a4c6-cd4e1e331bc4",
   "metadata": {},
   "outputs": [],
   "source": [
    "# add a constant to numpy array\n",
    "print(arr+20) # adds constant to each element!"
   ]
  },
  {
   "cell_type": "code",
   "execution_count": null,
   "id": "dd2e7c7d-6bcb-4287-91c2-413069ab8963",
   "metadata": {},
   "outputs": [],
   "source": [
    "# add two of the same things\n",
    "print(my_list + [6,7])"
   ]
  },
  {
   "cell_type": "code",
   "execution_count": null,
   "id": "ab6b4517-3717-4aaa-80b3-7c9dcabb416c",
   "metadata": {},
   "outputs": [],
   "source": [
    "print(arr + [6,7])"
   ]
  },
  {
   "cell_type": "code",
   "execution_count": null,
   "id": "d2d861d9-ee69-4532-a403-3834991bb691",
   "metadata": {},
   "outputs": [],
   "source": [
    "# what's that (5,)\n",
    "arr.shape"
   ]
  },
  {
   "cell_type": "code",
   "execution_count": null,
   "id": "f21e7f71-bf25-49e2-9e5f-f32aabee0260",
   "metadata": {},
   "outputs": [],
   "source": [
    "# Now you see why Python is powerful \n",
    "# It already assumed [6, 7] is a numpy array and then it complains about adding two arrays with different sizes\n",
    "# try True + 1 to see another example where Python identifies not True is 1"
   ]
  },
  {
   "cell_type": "code",
   "execution_count": null,
   "id": "0df93134-a1a9-4cfe-a14f-0b10f9ccbe30",
   "metadata": {},
   "outputs": [],
   "source": [
    "# so add the array with the same size\n",
    "print(my_list + my_list)\n",
    "print(arr + arr)"
   ]
  },
  {
   "cell_type": "code",
   "execution_count": null,
   "id": "2d01a5ed-352c-46b4-a5d7-218fee3c7fd3",
   "metadata": {},
   "outputs": [],
   "source": [
    "# Numpy array manipulation for choosing the elements from the array is the same as list manipulation\n",
    "# example 1d array manipulation (refer to class2 notes on the list )\n",
    "print(arr[: :2]) # select elements with separation 2\n",
    "print(arr[1: :2])# select elements with separation 2 but from second element\n",
    "print(arr[: :3]) # select elements with separation 3\n",
    "print(arr[: :1]) # select elements with separation 1= same array\n",
    "print(arr[: :-1])# select elements with separation -1= array reversed\n",
    "print(arr[: :-2])# select elements with separation -2 \n",
    "print(arr[:1 :-2])# select elements with separation -2 but up to the second  last element"
   ]
  },
  {
   "cell_type": "code",
   "execution_count": null,
   "id": "6d4dd6c1-7ce8-4e9d-bf87-99b7df75e626",
   "metadata": {},
   "outputs": [],
   "source": [
    "# created arrat from having numbers 0 to 9\n",
    "num_array = np.arange(10)\n",
    "print(num_array)"
   ]
  },
  {
   "cell_type": "code",
   "execution_count": null,
   "id": "653e8c09-d362-409e-9b8e-543a4588dd10",
   "metadata": {},
   "outputs": [],
   "source": [
    "# another way\n",
    "num_array_new =  np.linspace(0, 9, 10)\n",
    "print(num_array_new)"
   ]
  },
  {
   "cell_type": "code",
   "execution_count": null,
   "id": "8f7081d7-3d4a-4b4c-9150-0283aa07020d",
   "metadata": {},
   "outputs": [],
   "source": [
    "np.linspace?"
   ]
  },
  {
   "cell_type": "code",
   "execution_count": null,
   "id": "5ebf5166-7200-4815-ae0c-2ac324feae0d",
   "metadata": {},
   "outputs": [],
   "source": [
    "np.arange?"
   ]
  },
  {
   "cell_type": "code",
   "execution_count": null,
   "id": "9fe2623e-7994-4ca1-86a9-b5101e0b89a6",
   "metadata": {},
   "outputs": [],
   "source": [
    "# create something even better\n",
    "my_arr = np.arange(0, 1.1, 0.1)\n",
    "print(my_arr)"
   ]
  },
  {
   "cell_type": "code",
   "execution_count": null,
   "id": "a7e13cd5-ac8c-4c73-867f-6da98d9e7782",
   "metadata": {},
   "outputs": [],
   "source": [
    "print(np.max(my_arr))\n",
    "print(np.min(my_arr))\n",
    "print(np.median(my_arr))\n",
    "print(np.mean(my_arr))\n",
    "print(np.var(my_arr))"
   ]
  },
  {
   "cell_type": "markdown",
   "id": "36fa459e-6060-4ac7-bca8-888bae1e1860",
   "metadata": {},
   "source": [
    "* Why np.mean here is not exactly 0.5 ?"
   ]
  },
  {
   "cell_type": "code",
   "execution_count": null,
   "id": "babb062e-9cc5-4b69-8136-2e2ef7ce76d9",
   "metadata": {},
   "outputs": [],
   "source": [
    "# note on difference of list and numpy array\n",
    "mix_list =['ab', 'cdd', 95, True]\n",
    "mix_arr=np.array(['ab', 'cdd', 95, True])\n",
    "print(mix_list, ' list')\n",
    "print(mix_arr, ' Numpy array')"
   ]
  },
  {
   "cell_type": "markdown",
   "id": "8919d161-9e71-4027-aed6-6e534199b4b5",
   "metadata": {},
   "source": [
    "* Create matrices"
   ]
  },
  {
   "cell_type": "code",
   "execution_count": null,
   "id": "e80a45ba-22d8-49a1-be25-0b6b44dce1c9",
   "metadata": {},
   "outputs": [],
   "source": [
    "A=np.array([[1, 2],[3, 4]])\n",
    "print(A)"
   ]
  },
  {
   "cell_type": "code",
   "execution_count": null,
   "id": "80f28907-041c-4b89-88ea-df8e2eaa4f2b",
   "metadata": {},
   "outputs": [],
   "source": [
    "print(A.shape)"
   ]
  },
  {
   "cell_type": "code",
   "execution_count": null,
   "id": "c57d69d1-eeb7-456b-916d-113df1fda9f8",
   "metadata": {},
   "outputs": [],
   "source": [
    "# Matrix Addition\n",
    "B = np.array([[5, 6], [7, 8]])\n",
    "C = A + B\n",
    "print(\"Matrix A + B:\")\n",
    "print(C)\n",
    "\n"
   ]
  },
  {
   "cell_type": "code",
   "execution_count": null,
   "id": "cd1983e7-dc1e-4e7a-86d5-1490b0e78c42",
   "metadata": {},
   "outputs": [],
   "source": [
    "# Matrix Subtraction\n",
    "D = A - B\n",
    "print(\"Matrix A - B:\")\n",
    "print(D)\n",
    "\n",
    "# Matrix Multiplication (Dot Product)\n",
    "E = np.dot(A, B)\n",
    "print(\"\\nMatrix A * B (Dot Product):\")\n",
    "print(E)\n",
    "\n",
    "# Element-wise Multiplication (Hadamard Product)\n",
    "F = A * B\n",
    "print(\"\\nElement-wise Multiplication A * B:\")\n",
    "print(F)\n",
    "\n",
    "# Matrix Transpose\n",
    "G = A.T\n",
    "print(\"\\nTranspose of Matrix A:\")\n",
    "print(G)\n",
    "\n",
    "#Matrix Determinant\n",
    "det_A = np.linalg.det(A)\n",
    "print(\"\\nDeterminant of Matrix A:\")\n",
    "print(det_A)"
   ]
  },
  {
   "cell_type": "code",
   "execution_count": null,
   "id": "fefa9000-01e0-4e5a-8a6c-4b936d4b9218",
   "metadata": {},
   "outputs": [],
   "source": []
  }
 ],
 "metadata": {
  "kernelspec": {
   "display_name": "Python 3 (ipykernel)",
   "language": "python",
   "name": "python3"
  },
  "language_info": {
   "codemirror_mode": {
    "name": "ipython",
    "version": 3
   },
   "file_extension": ".py",
   "mimetype": "text/x-python",
   "name": "python",
   "nbconvert_exporter": "python",
   "pygments_lexer": "ipython3",
   "version": "3.12.7"
  }
 },
 "nbformat": 4,
 "nbformat_minor": 5
}
